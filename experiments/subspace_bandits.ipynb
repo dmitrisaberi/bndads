{
  "nbformat": 4,
  "nbformat_minor": 0,
  "metadata": {
    "interpreter": {
      "hash": "916dbcbb3f70747c44a77c7bcd40155683ae19c65e1c03b4aa3499c5328201f1"
    },
    "kernelspec": {
      "name": "python3",
      "display_name": "Python 3"
    },
    "colab": {
      "name": "subspace-bandits.ipynb",
      "provenance": [],
      "toc_visible": true,
      "include_colab_link": true
    },
    "language_info": {
      "name": "python"
    },
    "accelerator": "GPU"
  },
  "cells": [
    {
      "cell_type": "markdown",
      "metadata": {
        "id": "view-in-github",
        "colab_type": "text"
      },
      "source": [
        "<a href=\"https://colab.research.google.com/github/probml/bandits/blob/main/experiments/subspace_bandits.ipynb\" target=\"_parent\"><img src=\"https://colab.research.google.com/assets/colab-badge.svg\" alt=\"Open In Colab\"/></a>"
      ]
    },
    {
      "cell_type": "code",
      "metadata": {
        "colab": {
          "base_uri": "https://localhost:8080/"
        },
        "id": "fjs5Hm5_Env3",
        "outputId": "448e1704-341c-41c2-f51f-b1415abdc258"
      },
      "source": [
        "!git clone --depth 1 https://github.com/probml/bandits\n"
      ],
      "execution_count": 1,
      "outputs": [
        {
          "output_type": "stream",
          "name": "stdout",
          "text": [
            "Cloning into 'bandits'...\n",
            "remote: Enumerating objects: 51, done.\u001b[K\n",
            "remote: Counting objects: 100% (51/51), done.\u001b[K\n",
            "remote: Compressing objects: 100% (40/40), done.\u001b[K\n",
            "remote: Total 51 (delta 12), reused 36 (delta 9), pack-reused 0\u001b[K\n",
            "Unpacking objects: 100% (51/51), done.\n"
          ]
        }
      ]
    },
    {
      "cell_type": "code",
      "metadata": {
        "colab": {
          "base_uri": "https://localhost:8080/"
        },
        "id": "-v17u8IvF4r5",
        "outputId": "c3a6dae7-6d5d-458d-cd71-8354f94563ca"
      },
      "source": [
        "# https://github.com/probml/superimport\n",
        "!pip install superimport\n",
        "\n"
      ],
      "execution_count": 13,
      "outputs": [
        {
          "output_type": "stream",
          "name": "stdout",
          "text": [
            "Collecting superimport\n",
            "  Downloading superimport-0.3.4.tar.gz (6.0 kB)\n",
            "Requirement already satisfied: requests in /usr/local/lib/python3.7/dist-packages (from superimport) (2.23.0)\n",
            "Requirement already satisfied: idna<3,>=2.5 in /usr/local/lib/python3.7/dist-packages (from requests->superimport) (2.10)\n",
            "Requirement already satisfied: urllib3!=1.25.0,!=1.25.1,<1.26,>=1.21.1 in /usr/local/lib/python3.7/dist-packages (from requests->superimport) (1.24.3)\n",
            "Requirement already satisfied: chardet<4,>=3.0.2 in /usr/local/lib/python3.7/dist-packages (from requests->superimport) (3.0.4)\n",
            "Requirement already satisfied: certifi>=2017.4.17 in /usr/local/lib/python3.7/dist-packages (from requests->superimport) (2021.10.8)\n",
            "Building wheels for collected packages: superimport\n",
            "  Building wheel for superimport (setup.py) ... \u001b[?25l\u001b[?25hdone\n",
            "  Created wheel for superimport: filename=superimport-0.3.4-py3-none-any.whl size=5886 sha256=2786043c0a485bff37a2908f9567e74e37606ee52cfd9e457d6a6a991225e8f7\n",
            "  Stored in directory: /root/.cache/pip/wheels/6c/66/dc/337052d868002cf3830606ee34d91d1ceff6a67bf8df982c72\n",
            "Successfully built superimport\n",
            "Installing collected packages: superimport\n",
            "Successfully installed superimport-0.3.4\n"
          ]
        }
      ]
    },
    {
      "cell_type": "code",
      "metadata": {
        "id": "Bu0fD71JEaiR",
        "colab": {
          "base_uri": "https://localhost:8080/"
        },
        "outputId": "9eae897a-0a46-431c-e8fc-ffc9dbb4eda3"
      },
      "source": [
        "!pip install -qqq ml-collections\n",
        "!pip install git+git://github.com/deepmind/optax.git\n",
        "!pip install --upgrade git+https://github.com/google/flax.git"
      ],
      "execution_count": 11,
      "outputs": [
        {
          "output_type": "stream",
          "name": "stdout",
          "text": [
            "Collecting git+git://github.com/deepmind/optax.git\n",
            "  Cloning git://github.com/deepmind/optax.git to /tmp/pip-req-build-3yqikigr\n",
            "  Running command git clone -q git://github.com/deepmind/optax.git /tmp/pip-req-build-3yqikigr\n",
            "Requirement already satisfied: absl-py>=0.7.1 in /usr/local/lib/python3.7/dist-packages (from optax==0.1.0) (0.12.0)\n",
            "Requirement already satisfied: chex>=0.0.4 in /usr/local/lib/python3.7/dist-packages (from optax==0.1.0) (0.1.0)\n",
            "Requirement already satisfied: jax>=0.1.55 in /usr/local/lib/python3.7/dist-packages (from optax==0.1.0) (0.2.25)\n",
            "Requirement already satisfied: jaxlib>=0.1.37 in /usr/local/lib/python3.7/dist-packages (from optax==0.1.0) (0.1.71+cuda111)\n",
            "Requirement already satisfied: numpy>=1.18.0 in /usr/local/lib/python3.7/dist-packages (from optax==0.1.0) (1.19.5)\n",
            "Requirement already satisfied: typing_extensions>=3.10.0 in /usr/local/lib/python3.7/dist-packages (from optax==0.1.0) (3.10.0.2)\n",
            "Requirement already satisfied: six in /usr/local/lib/python3.7/dist-packages (from absl-py>=0.7.1->optax==0.1.0) (1.15.0)\n",
            "Requirement already satisfied: toolz>=0.9.0 in /usr/local/lib/python3.7/dist-packages (from chex>=0.0.4->optax==0.1.0) (0.11.2)\n",
            "Requirement already satisfied: dm-tree>=0.1.5 in /usr/local/lib/python3.7/dist-packages (from chex>=0.0.4->optax==0.1.0) (0.1.6)\n",
            "Requirement already satisfied: opt-einsum in /usr/local/lib/python3.7/dist-packages (from jax>=0.1.55->optax==0.1.0) (3.3.0)\n",
            "Requirement already satisfied: scipy>=1.2.1 in /usr/local/lib/python3.7/dist-packages (from jax>=0.1.55->optax==0.1.0) (1.4.1)\n",
            "Requirement already satisfied: flatbuffers<3.0,>=1.12 in /usr/local/lib/python3.7/dist-packages (from jaxlib>=0.1.37->optax==0.1.0) (2.0)\n",
            "Collecting git+https://github.com/google/flax.git\n",
            "  Cloning https://github.com/google/flax.git to /tmp/pip-req-build-7j7thnxm\n",
            "  Running command git clone -q https://github.com/google/flax.git /tmp/pip-req-build-7j7thnxm\n",
            "Requirement already satisfied: numpy>=1.12 in /usr/local/lib/python3.7/dist-packages (from flax==0.3.6) (1.19.5)\n",
            "Requirement already satisfied: jax>=0.2.21 in /usr/local/lib/python3.7/dist-packages (from flax==0.3.6) (0.2.25)\n",
            "Requirement already satisfied: matplotlib in /usr/local/lib/python3.7/dist-packages (from flax==0.3.6) (3.2.2)\n",
            "Requirement already satisfied: msgpack in /usr/local/lib/python3.7/dist-packages (from flax==0.3.6) (1.0.3)\n",
            "Requirement already satisfied: optax in /usr/local/lib/python3.7/dist-packages (from flax==0.3.6) (0.1.0)\n",
            "Requirement already satisfied: absl-py in /usr/local/lib/python3.7/dist-packages (from jax>=0.2.21->flax==0.3.6) (0.12.0)\n",
            "Requirement already satisfied: opt-einsum in /usr/local/lib/python3.7/dist-packages (from jax>=0.2.21->flax==0.3.6) (3.3.0)\n",
            "Requirement already satisfied: scipy>=1.2.1 in /usr/local/lib/python3.7/dist-packages (from jax>=0.2.21->flax==0.3.6) (1.4.1)\n",
            "Requirement already satisfied: typing-extensions in /usr/local/lib/python3.7/dist-packages (from jax>=0.2.21->flax==0.3.6) (3.10.0.2)\n",
            "Requirement already satisfied: six in /usr/local/lib/python3.7/dist-packages (from absl-py->jax>=0.2.21->flax==0.3.6) (1.15.0)\n",
            "Requirement already satisfied: kiwisolver>=1.0.1 in /usr/local/lib/python3.7/dist-packages (from matplotlib->flax==0.3.6) (1.3.2)\n",
            "Requirement already satisfied: cycler>=0.10 in /usr/local/lib/python3.7/dist-packages (from matplotlib->flax==0.3.6) (0.11.0)\n",
            "Requirement already satisfied: python-dateutil>=2.1 in /usr/local/lib/python3.7/dist-packages (from matplotlib->flax==0.3.6) (2.8.2)\n",
            "Requirement already satisfied: pyparsing!=2.0.4,!=2.1.2,!=2.1.6,>=2.0.1 in /usr/local/lib/python3.7/dist-packages (from matplotlib->flax==0.3.6) (3.0.6)\n",
            "Requirement already satisfied: jaxlib>=0.1.37 in /usr/local/lib/python3.7/dist-packages (from optax->flax==0.3.6) (0.1.71+cuda111)\n",
            "Requirement already satisfied: chex>=0.0.4 in /usr/local/lib/python3.7/dist-packages (from optax->flax==0.3.6) (0.1.0)\n",
            "Requirement already satisfied: toolz>=0.9.0 in /usr/local/lib/python3.7/dist-packages (from chex>=0.0.4->optax->flax==0.3.6) (0.11.2)\n",
            "Requirement already satisfied: dm-tree>=0.1.5 in /usr/local/lib/python3.7/dist-packages (from chex>=0.0.4->optax->flax==0.3.6) (0.1.6)\n",
            "Requirement already satisfied: flatbuffers<3.0,>=1.12 in /usr/local/lib/python3.7/dist-packages (from jaxlib>=0.1.37->optax->flax==0.3.6) (2.0)\n",
            "Building wheels for collected packages: flax\n",
            "  Building wheel for flax (setup.py) ... \u001b[?25l\u001b[?25hdone\n",
            "  Created wheel for flax: filename=flax-0.3.6-py3-none-any.whl size=208768 sha256=e20f474701479d6e5e2f959e5564216210e055129b24adc88070cbfea2c5d570\n",
            "  Stored in directory: /tmp/pip-ephem-wheel-cache-puuip8un/wheels/3e/9e/df/f792f5b2c0d0ccf00f3c1286bc060dab7cb2a4af5134d1c5b4\n",
            "Successfully built flax\n",
            "Installing collected packages: flax\n",
            "Successfully installed flax-0.3.6\n"
          ]
        }
      ]
    },
    {
      "cell_type": "code",
      "metadata": {
        "colab": {
          "base_uri": "https://localhost:8080/"
        },
        "id": "o64Nk62EE_Nh",
        "outputId": "62d1f51d-e981-46ce-8f94-58e2d948d364"
      },
      "source": [
        "%cd bandits\n"
      ],
      "execution_count": 6,
      "outputs": [
        {
          "output_type": "stream",
          "name": "stdout",
          "text": [
            "/content/bandits/bandits\n"
          ]
        }
      ]
    },
    {
      "cell_type": "code",
      "metadata": {
        "colab": {
          "base_uri": "https://localhost:8080/"
        },
        "id": "mVPEdTsGFN4c",
        "outputId": "63c9bbb9-0ee1-4de0-e1ed-12867ad4b452"
      },
      "source": [
        "!ls"
      ],
      "execution_count": 7,
      "outputs": [
        {
          "output_type": "stream",
          "name": "stdout",
          "text": [
            "agents\tenvironments  experiments  figures  __init__.py  nlds_lib  results\n"
          ]
        }
      ]
    },
    {
      "cell_type": "code",
      "metadata": {
        "tags": [],
        "id": "YSgufIApEaiU",
        "colab": {
          "base_uri": "https://localhost:8080/"
        },
        "outputId": "3a762f38-6fec-4f89-8b2e-2c7fab811f27"
      },
      "source": [
        "import os\n",
        "#os.chdir(\"..\")\n",
        "\n",
        "import jax\n",
        "import ml_collections\n",
        "\n",
        "import pandas as pd\n",
        "\n",
        "import glob\n",
        "from datetime import datetime\n",
        "\n",
        "import experiments.movielens_exp as movielens_run\n",
        "import experiments.mnist_exp as mnist_run\n",
        "import experiments.tabular_exp as tabular_run\n",
        "import experiments.tabular_subspace_exp as tabular_sub_run\n",
        "\n",
        "print(jax.device_count())"
      ],
      "execution_count": 14,
      "outputs": [
        {
          "output_type": "stream",
          "name": "stderr",
          "text": [
            "INFO:absl:Unable to initialize backend 'tpu_driver': NOT_FOUND: Unable to find driver in registry given worker: \n",
            "INFO:absl:Unable to initialize backend 'tpu': INVALID_ARGUMENT: TpuPlatform is not available.\n"
          ]
        },
        {
          "output_type": "stream",
          "name": "stdout",
          "text": [
            "1\n"
          ]
        }
      ]
    },
    {
      "cell_type": "code",
      "metadata": {
        "id": "8gnJYer1EaiV"
      },
      "source": [
        "def get_config(results_filename):\n",
        "  \"\"\"Get the default hyperparameter configuration.\"\"\"\n",
        "  config = ml_collections.ConfigDict()\n",
        "  config.filepath = results_filename\n",
        "  config.ntrials = 3 # was 10 in paper\n",
        "  return config"
      ],
      "execution_count": 15,
      "outputs": []
    },
    {
      "cell_type": "code",
      "metadata": {
        "id": "Yo1dXiJSEaiV"
      },
      "source": [
        "timestamp = datetime.timestamp(datetime.now())"
      ],
      "execution_count": 16,
      "outputs": []
    },
    {
      "cell_type": "code",
      "metadata": {
        "id": "QuYleUSEG-or"
      },
      "source": [
        "def plot_figure(data, x, y, filename, figsize=(24, 9), log_scale=False):   \n",
        "    sns.set(font_scale=1.5)\n",
        "    plt.style.use(\"seaborn-poster\")\n",
        "\n",
        "    fig, ax = plt.subplots(figsize=figsize, dpi=300)\n",
        "    g = sns.barplot(x=x, y=y, hue=\"Method\", data=data, errwidth=2, ax=ax, palette=colors)\n",
        "    if log_scale:\n",
        "        g.set_yscale(\"log\")\n",
        "    plt.legend(loc='upper left', bbox_to_anchor=(1.0, 1.0))\n",
        "    plt.tight_layout()\n",
        "    plt.savefig(f\"./figures/{filename}.png\")\n",
        "    plt.show()\n",
        "\n",
        "def read_data(dataset_name):\n",
        "    *_, filename = sorted(glob.glob(f\"./results/{dataset_name}_results*.csv\"))\n",
        "    df = pd.read_csv(filename)\n",
        "    if dataset_name==\"mnist\":\n",
        "        linear_df = df[(df[\"Method\"]==\"Lin-KF\") | (df[\"Method\"]==\"Lin\")].copy()\n",
        "        linear_df[\"Model\"] = \"MLP2\"\n",
        "        df = df.append(linear_df)\n",
        "        linear_df[\"Model\"] = \"LeNet5\"\n",
        "        df = df.append(linear_df)\n",
        "\n",
        "    by = [\"Rank\"] if dataset_name==\"tabular\" else [\"Rank\", \"AltRank\"]\n",
        "\n",
        "    data_up = df.sort_values(by=by).copy()\n",
        "    data_down = df.sort_values(by=by).copy()\n",
        "\n",
        "    data_up[\"Reward\"] = data_up[\"Reward\"] + data_up[\"Std\"]\n",
        "    data_down[\"Reward\"] = data_down[\"Reward\"] - data_down[\"Std\"]\n",
        "    data = pd.concat([data_up, data_down])\n",
        "    return data\n",
        "\n",
        "def plot_subspace_figure(df, filename=None):\n",
        "    df = df.reset_index().drop(columns=[\"index\"])\n",
        "    plt.style.use(\"seaborn-darkgrid\")\n",
        "    fig, ax = plt.subplots(figsize=(12, 8))\n",
        "    sns.lineplot(x=\"Subspace Dim\", y=\"Reward\", hue=\"Method\", marker=\"o\", data=df)\n",
        "    lines, labels = ax.get_legend_handles_labels()\n",
        "    for line, method in zip(lines, labels):\n",
        "        data = df[df[\"Method\"]==method]\n",
        "        color = line.get_c()\n",
        "        y_lower_bound =  data[\"Reward\"] -  data[\"Std\"]\n",
        "        y_upper_bound = data[\"Reward\"] + data[\"Std\"]\n",
        "        ax.fill_between(data[\"Subspace Dim\"],  y_lower_bound, y_upper_bound, color=color, alpha=0.3)\n",
        "\n",
        "    ax.set_ylabel(\"Reward\", fontsize=16)\n",
        "    plt.setp(ax.get_xticklabels(), fontsize=16) \n",
        "    plt.setp(ax.get_yticklabels(), fontsize=16) \n",
        "    ax.set_xlabel(\"Subspace Dimension(d)\", fontsize=16)\n",
        "    dataset = df.iloc[0][\"Dataset\"]\n",
        "    ax.set_title(f\"{dataset.title()} - Subspace Dim vs. Reward\", fontsize=18)\n",
        "    legend = ax.legend(loc=\"lower right\", prop={'size': 16},frameon=1)\n",
        "    frame = legend.get_frame()\n",
        "    frame.set_color('white')\n",
        "    frame.set_alpha(0.6)\n",
        "    \n",
        "    file_path = \"./figures/\"\n",
        "    file_path = file_path + f\"{dataset}_sub_reward.png\" if filename is None else file_path + f\"{filename}.png\"\n",
        "    plt.savefig(file_path)"
      ],
      "execution_count": null,
      "outputs": []
    },
    {
      "cell_type": "markdown",
      "metadata": {
        "id": "NaqV5SteEaiV"
      },
      "source": [
        "# Run tabular experiments"
      ]
    },
    {
      "cell_type": "code",
      "metadata": {
        "id": "zoWaUbkdEaiX",
        "colab": {
          "base_uri": "https://localhost:8080/"
        },
        "outputId": "426548af-de0d-447c-a5a3-9053823065a7"
      },
      "source": [
        "tabular_filename = f\"./results/tabular_results_{timestamp}.csv\"\n",
        "config = get_config(tabular_filename)\n",
        "tabular_run.main(config)"
      ],
      "execution_count": null,
      "outputs": [
        {
          "output_type": "stream",
          "name": "stdout",
          "text": [
            "Environment :  shuttle\n",
            "\tBandit : Linear\n",
            "\t\tExpected Reward : 4429.40 ± 12.75\n",
            "\t\tTime : 11.417s\n",
            "\tBandit : Linear KF\n",
            "\t\tExpected Reward : 4427.40 ± 12.29\n",
            "\t\tTime : 3.873s\n",
            "\tBandit : Linear Wide\n",
            "\t\tExpected Reward : 4210.10 ± 11.49\n",
            "\t\tTime : 7.957s\n",
            "\tBandit : Limited Neural Linear\n",
            "\t\tExpected Reward : 3868.20 ± 20.73\n",
            "\t\tTime : 11.415s\n",
            "\tBandit : Unlimited Neural Linear\n",
            "\t\tExpected Reward : 4143.90 ± 13.29\n",
            "\t\tTime : 10.318s\n",
            "\tBandit : EKF Subspace SVD\n",
            "\t\tExpected Reward : 4847.80 ± 1.08\n",
            "\t\tTime : 10.242s\n",
            "\tBandit : EKF Subspace RND\n",
            "\t\tExpected Reward : 4846.30 ± 1.79\n",
            "\t\tTime : 8.672s\n",
            "\tBandit : EKF Diagonal Subspace SVD\n",
            "\t\tExpected Reward : 4827.00 ± 0.00\n",
            "\t\tTime : 2.766s\n",
            "\tBandit : EKF Diagonal Subspace RND\n",
            "\t\tExpected Reward : 4794.00 ± 0.00\n",
            "\t\tTime : 2.472s\n",
            "\tBandit : EKF Orig Diagonal\n",
            "\t\tExpected Reward : 3594.20 ± 950.41\n",
            "\t\tTime : 2.580s\n",
            "\tBandit : EKF Orig Full\n",
            "\t\tExpected Reward : 3912.10 ± 6.22\n",
            "\t\tTime : 22.319s\n",
            "Environment :  covertype\n",
            "\tBandit : Linear\n",
            "\t\tExpected Reward : 3020.10 ± 20.94\n",
            "\t\tTime : 7.287s\n",
            "\tBandit : Linear KF\n",
            "\t\tExpected Reward : 3021.30 ± 21.11\n",
            "\t\tTime : 3.689s\n",
            "\tBandit : Linear Wide\n",
            "\t\tExpected Reward : 1832.10 ± 10.91\n",
            "\t\tTime : 99.887s\n",
            "\tBandit : Limited Neural Linear\n",
            "\t\tExpected Reward : 1832.80 ± 2.86\n",
            "\t\tTime : 9.278s\n",
            "\tBandit : Unlimited Neural Linear\n",
            "\t\tExpected Reward : 2751.60 ± 37.71\n",
            "\t\tTime : 9.952s\n",
            "\tBandit : EKF Subspace SVD\n",
            "\t\tExpected Reward : 3208.40 ± 25.32\n",
            "\t\tTime : 8.743s\n",
            "\tBandit : EKF Subspace RND\n",
            "\t\tExpected Reward : 3215.60 ± 22.08\n",
            "\t\tTime : 8.398s\n",
            "\tBandit : EKF Diagonal Subspace SVD\n",
            "\t\tExpected Reward : 2446.00 ± 0.00\n",
            "\t\tTime : 2.893s\n",
            "\tBandit : EKF Diagonal Subspace RND\n",
            "\t\tExpected Reward : 2659.00 ± 0.00\n",
            "\t\tTime : 2.506s\n",
            "\tBandit : EKF Orig Diagonal\n",
            "\t\tExpected Reward : 1776.10 ± 937.75\n",
            "\t\tTime : 3.065s\n",
            "\tBandit : EKF Orig Full\n"
          ]
        }
      ]
    },
    {
      "cell_type": "code",
      "metadata": {
        "id": "6Jkow86vHXBl"
      },
      "source": [
        "dataset_name = \"tabular\"\n",
        "tabular_df = read_data(dataset_name)\n",
        "tabular_rows = ['EKF-Sub-SVD', 'EKF-Sub-RND', 'EKF-Sub-Diag-SVD', 'EKF-Sub-Diag-RND',\n",
        "                'EKF-Orig-Full',  'EKF-Orig-Diag', 'NL-Lim', 'NL-Unlim', 'Lin', 'Lim2', 'NeuralTS']\n",
        "tabular_df = tabular_df[tabular_df['Method'].isin(tabular_rows)]"
      ],
      "execution_count": null,
      "outputs": []
    },
    {
      "cell_type": "code",
      "metadata": {
        "id": "YO4xTn4THjMN"
      },
      "source": [
        "x, y = \"Dataset\", \"Reward\"\n",
        "filename = f\"{dataset_name}_{y.lower()}\"\n",
        "plot_figure(tabular_df, x, y, filename)"
      ],
      "execution_count": null,
      "outputs": []
    },
    {
      "cell_type": "code",
      "metadata": {
        "id": "Eh_9zkdLHmU-"
      },
      "source": [
        "x, y = \"Dataset\", \"Time\"\n",
        "filename = f\"{dataset_name}_{y.lower()}\"\n",
        "plot_figure(tabular_df[tabular_df[\"Method\"] != \"NeuralTS\"], x, y, filename, log_scale=True)"
      ],
      "execution_count": null,
      "outputs": []
    },
    {
      "cell_type": "markdown",
      "metadata": {
        "id": "tUxNfJnoEaiZ"
      },
      "source": [
        "# Run movielens experiments"
      ]
    },
    {
      "cell_type": "code",
      "metadata": {
        "id": "XkzXuQp3Eaia"
      },
      "source": [
        "movielens_filename = f\"./results/movielens_results_{timestamp}.csv\"\n",
        "config = get_config(movielens_filename)\n",
        "movielens_run.main(config)"
      ],
      "execution_count": null,
      "outputs": []
    },
    {
      "cell_type": "code",
      "metadata": {
        "id": "JME59OYvILCs"
      },
      "source": [
        "dataset_name = \"movielens\"\n",
        "movielens_df = read_data(dataset_name)\n",
        "movielens_rows =  ['EKF-Sub-SVD', 'EKF-Sub-RND', 'EKF-Sub-Diag-SVD', 'EKF-Sub-Diag-RND',\n",
        "                   'EKF-Orig-Diag', 'NL-Lim', 'NL-Unlim', 'Lin']\n",
        "movielens_df = movielens_df[movielens_df['Method'].isin(movielens_rows)]"
      ],
      "execution_count": null,
      "outputs": []
    },
    {
      "cell_type": "code",
      "metadata": {
        "id": "cJ37A_YtIM9i"
      },
      "source": [
        "x, y = \"Model\", \"Reward\"\n",
        "filename = f\"{dataset_name}_{y.lower()}\"\n",
        "plot_figure(movielens_df, x, y, filename)"
      ],
      "execution_count": null,
      "outputs": []
    },
    {
      "cell_type": "code",
      "metadata": {
        "id": "KDLNAIQ6IPFT"
      },
      "source": [
        "x, y = \"Model\", \"Time\"\n",
        "filename = f\"{dataset_name}_{y.lower()}\"\n",
        "plot_figure(movielens_df, x, y, filename)"
      ],
      "execution_count": null,
      "outputs": []
    },
    {
      "cell_type": "markdown",
      "metadata": {
        "id": "PkJlfdAyEaiX"
      },
      "source": [
        "# Run MNIST experiments"
      ]
    },
    {
      "cell_type": "code",
      "metadata": {
        "id": "9J26gcVTEaiZ"
      },
      "source": [
        "mnist_filename = f\"./results/mnist_results_{timestamp}.csv\"\n",
        "config = get_config(mnist_filename)\n",
        "mnist_run.main(config)"
      ],
      "execution_count": null,
      "outputs": []
    },
    {
      "cell_type": "code",
      "metadata": {
        "id": "I0--fVenH7kK"
      },
      "source": [
        "method_ordering = {\"EKF-Sub-SVD\": 0,\n",
        "                   \"EKF-Sub-RND\": 1,\n",
        "                   \"EKF-Sub-Diag-SVD\": 2,\n",
        "                   \"EKF-Sub-Diag-RND\": 3,\n",
        "                   \"EKF-Orig-Full\": 4,\n",
        "                   \"EKF-Orig-Diag\": 5,\n",
        "                   \"NL-Lim\": 6,\n",
        "                   \"NL-Unlim\": 7,\n",
        "                   \"Lin\": 8,\n",
        "                   \"Lin-KF\": 9,\n",
        "                   \"Lin-Wide\": 9,\n",
        "                   \"Lim2\": 10,\n",
        "                   \"NeuralTS\": 11}\n",
        "                   \n",
        "colors = {k : sns.color_palette(\"Paired\")[v]\n",
        "          if k!=\"Lin-KF\" else  sns.color_palette(\"tab20\")[8]\n",
        "          for k,v in method_ordering.items()}"
      ],
      "execution_count": null,
      "outputs": []
    },
    {
      "cell_type": "code",
      "metadata": {
        "id": "8AwA3qTaH-Oo"
      },
      "source": [
        "dataset_name = \"mnist\"\n",
        "# For possible methods, run mnist_df.Method.unique()\n",
        "mnist_rows = ['EKF-Sub-SVD', 'EKF-Sub-RND', 'EKF-Sub-Diag-SVD', 'EKF-Sub-Diag-RND', 'EKF-Orig-Diag', 'NL-Lim', 'NL-Unlim', 'Lin']"
      ],
      "execution_count": null,
      "outputs": []
    },
    {
      "cell_type": "code",
      "metadata": {
        "id": "lbpYHsbXIAf_"
      },
      "source": [
        "mnist_df = read_data(dataset_name)\n",
        "mnist_df = mnist_df[mnist_df['Method'].isin(mnist_rows)]"
      ],
      "execution_count": null,
      "outputs": []
    },
    {
      "cell_type": "code",
      "metadata": {
        "id": "d7AUy1jjICGJ"
      },
      "source": [
        "x, y = \"Model\", \"Reward\"\n",
        "filename = f\"{dataset_name}_{y.lower()}\"\n",
        "plot_figure(mnist_df, x, y, filename)"
      ],
      "execution_count": null,
      "outputs": []
    },
    {
      "cell_type": "code",
      "metadata": {
        "id": "WoNF2EB6IEPQ"
      },
      "source": [
        "x, y = \"Model\", \"Time\"\n",
        "filename = f\"{dataset_name}_{y.lower()}\"\n",
        "plot_figure(mnist_df, x, y, filename, log_scale=True)"
      ],
      "execution_count": null,
      "outputs": []
    },
    {
      "cell_type": "markdown",
      "metadata": {
        "id": "a_dE_wIQEaia"
      },
      "source": [
        "# Run tabular subspace experiment"
      ]
    },
    {
      "cell_type": "code",
      "metadata": {
        "id": "4usZ5SIdEaib"
      },
      "source": [
        "tabular_sub_filename = f\"./results/tabular_subspace_results_{timestamp}.csv\"\n",
        "config = get_config(tabular_sub_filename)\n",
        "tabular_sub_run.main(config)"
      ],
      "execution_count": null,
      "outputs": []
    },
    {
      "cell_type": "code",
      "metadata": {
        "id": "xGAjjg5bIRfN"
      },
      "source": [
        "*_, filename = sorted(glob.glob(f\"./results/tabular_subspace_results*.csv\"))\n",
        "tabular_sub_df = pd.read_csv(filename)"
      ],
      "execution_count": null,
      "outputs": []
    },
    {
      "cell_type": "code",
      "metadata": {
        "id": "BP-hf3XbITZy"
      },
      "source": [
        "dataset_name = \"shuttle\"\n",
        "shuttle = tabular_sub_df[tabular_sub_df[\"Dataset\"]==dataset_name]\n",
        "plot_subspace_figure(shuttle)"
      ],
      "execution_count": null,
      "outputs": []
    },
    {
      "cell_type": "code",
      "metadata": {
        "id": "wKV6qFqsITAY"
      },
      "source": [
        "dataset_name = \"adult\"\n",
        "adult = tabular_sub_df[tabular_sub_df[\"Dataset\"]==dataset_name]\n",
        "plot_subspace_figure(adult)"
      ],
      "execution_count": null,
      "outputs": []
    },
    {
      "cell_type": "code",
      "metadata": {
        "id": "s7K8-ONgIW1k"
      },
      "source": [
        "dataset_name = \"covertype\"\n",
        "covertype = tabular_sub_df[tabular_sub_df[\"Dataset\"]==dataset_name]\n",
        "plot_subspace_figure(covertype)"
      ],
      "execution_count": null,
      "outputs": []
    }
  ]
}