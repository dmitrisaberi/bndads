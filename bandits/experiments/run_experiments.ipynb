{
 "cells": [
  {
   "cell_type": "code",
   "execution_count": 1,
   "metadata": {},
   "outputs": [],
   "source": [
    "!pip install -qqq ml-collections"
   ]
  },
  {
   "cell_type": "code",
   "execution_count": 1,
   "metadata": {
    "tags": []
   },
   "outputs": [
    {
     "name": "stderr",
     "output_type": "stream",
     "text": [
      "INFO:absl:Unable to initialize backend 'tpu_driver': NOT_FOUND: Unable to find driver in registry given worker: \n",
      "INFO:absl:Unable to initialize backend 'gpu': NOT_FOUND: Could not find registered platform with name: \"cuda\". Available platform names are: Host Interpreter TPU\n"
     ]
    },
    {
     "name": "stdout",
     "output_type": "stream",
     "text": [
      "8\n"
     ]
    }
   ],
   "source": [
    "import os\n",
    "os.chdir(\"..\")\n",
    "\n",
    "import jax\n",
    "import ml_collections\n",
    "\n",
    "import pandas as pd\n",
    "\n",
    "import glob\n",
    "from datetime import datetime\n",
    "\n",
    "import experiments.movielens_exp as movielens_run\n",
    "import experiments.mnist_exp as mnist_run\n",
    "import experiments.tabular_exp as tabular_run\n",
    "import experiments.tabular_subspace_exp as tabular_sub_run\n",
    "\n",
    "print(jax.device_count())"
   ]
  },
  {
   "cell_type": "code",
   "execution_count": 2,
   "metadata": {},
   "outputs": [],
   "source": [
    "def get_config(filepath):\n",
    "  \"\"\"Get the default hyperparameter configuration.\"\"\"\n",
    "  config = ml_collections.ConfigDict()\n",
    "  config.filepath = filepath\n",
    "  config.ntrials = 10\n",
    "  return config"
   ]
  },
  {
   "cell_type": "code",
   "execution_count": 3,
   "metadata": {},
   "outputs": [],
   "source": [
    "timestamp = datetime.timestamp(datetime.now())"
   ]
  },
  {
   "cell_type": "markdown",
   "metadata": {},
   "source": [
    "# Run tabular experiments"
   ]
  },
  {
   "cell_type": "code",
   "execution_count": null,
   "metadata": {},
   "outputs": [
    {
     "name": "stdout",
     "output_type": "stream",
     "text": [
      "Environment :  shuttle\n",
      "\tBandit : Linear\n",
      "\t\tExpected Reward : 4426.40 ± 9.98\n",
      "\t\tTime : 8.301s\n",
      "\tBandit : Linear KF\n",
      "\t\tExpected Reward : 4426.50 ± 12.08\n",
      "\t\tTime : 6.001s\n",
      "\tBandit : Linear Wide\n",
      "\t\tExpected Reward : 4208.80 ± 7.95\n",
      "\t\tTime : 11.835s\n",
      "\tBandit : Limited Neural Linear\n"
     ]
    }
   ],
   "source": [
    "tabular_filename = f\"./results/tabular_results_{timestamp}.csv\"\n",
    "config = get_config(tabular_filename)\n",
    "tabular_run.main(config)"
   ]
  },
  {
   "cell_type": "markdown",
   "metadata": {},
   "source": [
    "# Run MNIST experiments"
   ]
  },
  {
   "cell_type": "code",
   "execution_count": null,
   "metadata": {},
   "outputs": [],
   "source": [
    "mnist_filename = f\"./results/mnist_results_{timestamp}.csv\"\n",
    "config = get_config(mnist_filename)\n",
    "mnist_run.main(config)"
   ]
  },
  {
   "cell_type": "markdown",
   "metadata": {},
   "source": [
    "# Run movielens experiments"
   ]
  },
  {
   "cell_type": "code",
   "execution_count": null,
   "metadata": {},
   "outputs": [],
   "source": [
    "movielens_filename = f\"./results/movielens_results_{timestamp}.csv\"\n",
    "config = get_config(movielens_filename)\n",
    "movielens_run.main(config)"
   ]
  },
  {
   "cell_type": "markdown",
   "metadata": {},
   "source": [
    "# Run tabular subspace experiment"
   ]
  },
  {
   "cell_type": "code",
   "execution_count": null,
   "metadata": {},
   "outputs": [],
   "source": [
    "tabular_sub_filename = f\"./results/tabular_subspace_results_{datetime.timestamp(datetime.now())}.csv\"\n",
    "config = get_config(tabular_sub_filename)\n",
    "tabular_sub_run.main(config)"
   ]
  }
 ],
 "metadata": {
  "interpreter": {
   "hash": "916dbcbb3f70747c44a77c7bcd40155683ae19c65e1c03b4aa3499c5328201f1"
  },
  "kernelspec": {
   "display_name": "probml",
   "language": "python",
   "name": "probml"
  },
  "language_info": {
   "codemirror_mode": {
    "name": "ipython",
    "version": 3
   },
   "file_extension": ".py",
   "mimetype": "text/x-python",
   "name": "python",
   "nbconvert_exporter": "python",
   "pygments_lexer": "ipython3",
   "version": "3.9.7"
  }
 },
 "nbformat": 4,
 "nbformat_minor": 4
}
