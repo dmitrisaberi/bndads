{
  "nbformat": 4,
  "nbformat_minor": 0,
  "metadata": {
    "interpreter": {
      "hash": "916dbcbb3f70747c44a77c7bcd40155683ae19c65e1c03b4aa3499c5328201f1"
    },
    "kernelspec": {
      "name": "python3",
      "display_name": "Python 3"
    },
    "colab": {
      "name": "subspace-bandits.ipynb",
      "provenance": [],
      "machine_shape": "hm",
      "include_colab_link": true
    },
    "language_info": {
      "name": "python"
    },
    "accelerator": "TPU"
  },
  "cells": [
    {
      "cell_type": "markdown",
      "metadata": {
        "id": "view-in-github",
        "colab_type": "text"
      },
      "source": [
        "<a href=\"https://colab.research.google.com/github/probml/bandits/blob/main/bandits/experiments/subspace_bandits.ipynb\" target=\"_parent\"><img src=\"https://colab.research.google.com/assets/colab-badge.svg\" alt=\"Open In Colab\"/></a>"
      ]
    },
    {
      "cell_type": "code",
      "metadata": {
        "colab": {
          "base_uri": "https://localhost:8080/"
        },
        "id": "fjs5Hm5_Env3",
        "outputId": "671071f9-078f-4936-cd07-1d68706d0758"
      },
      "source": [
        "!git clone --depth 1 https://github.com/probml/bandits"
      ],
      "execution_count": 14,
      "outputs": [
        {
          "output_type": "stream",
          "name": "stdout",
          "text": [
            "Cloning into 'bandits'...\n",
            "remote: Enumerating objects: 56, done.\u001b[K\n",
            "remote: Counting objects: 100% (56/56), done.\u001b[K\n",
            "remote: Compressing objects: 100% (46/46), done.\u001b[K\n",
            "remote: Total 56 (delta 11), reused 33 (delta 8), pack-reused 0\u001b[K\n",
            "Unpacking objects: 100% (56/56), done.\n"
          ]
        }
      ]
    },
    {
      "cell_type": "code",
      "metadata": {
        "id": "Bu0fD71JEaiR"
      },
      "source": [
        "!pip install -qqq fire\n",
        "!pip install -qqq ml-collections\n",
        "!pip install -qqq git+git://github.com/deepmind/optax.git\n",
        "!pip install -qqq --upgrade git+https://github.com/google/flax.git"
      ],
      "execution_count": 11,
      "outputs": []
    },
    {
      "cell_type": "code",
      "source": [
        "%%bash\n",
        "cd /content/bandits\n",
        "python bandits test"
      ],
      "metadata": {
        "id": "scOTAFKLncE5",
        "outputId": "1f86ddcb-d675-4f64-cf91-ecd3a27b97f1",
        "colab": {
          "base_uri": "https://localhost:8080/"
        }
      },
      "execution_count": 15,
      "outputs": [
        {
          "output_type": "stream",
          "name": "stdout",
          "text": [
            "Expected Reward : 4420.40 ± 13.48\n",
            "Time : 15.764s\n"
          ]
        },
        {
          "output_type": "stream",
          "name": "stderr",
          "text": [
            "2021-12-09 14:35:55.484256: E external/org_tensorflow/tensorflow/stream_executor/cuda/cuda_driver.cc:271] failed call to cuInit: CUDA_ERROR_NO_DEVICE: no CUDA-capable device is detected\n",
            "WARNING:absl:No GPU/TPU found, falling back to CPU. (Set TF_CPP_MIN_LOG_LEVEL=0 and rerun for more info.)\n"
          ]
        }
      ]
    },
    {
      "cell_type": "code",
      "metadata": {
        "colab": {
          "base_uri": "https://localhost:8080/"
        },
        "id": "IgQ7Wq37LUQG",
        "outputId": "21ad3203-0a12-4004-df85-04a90f282821"
      },
      "source": [
        "%cd /content/bandits/bandits/experiments"
      ],
      "execution_count": null,
      "outputs": [
        {
          "output_type": "stream",
          "name": "stdout",
          "text": [
            "/content/bandits/bandits/experiments\n"
          ]
        }
      ]
    },
    {
      "cell_type": "code",
      "metadata": {
        "tags": [],
        "id": "YSgufIApEaiU",
        "colab": {
          "base_uri": "https://localhost:8080/"
        },
        "outputId": "d7af82c8-f00c-4bb6-f16f-47c63828026f"
      },
      "source": [
        "import os\n",
        "os.chdir(\"..\")\n",
        "\n",
        "import jax\n",
        "import ml_collections\n",
        "\n",
        "import pandas as pd\n",
        "\n",
        "import glob\n",
        "from datetime import datetime\n",
        "\n",
        "import experiments.movielens_exp as movielens_run\n",
        "import experiments.mnist_exp as mnist_run\n",
        "import experiments.tabular_exp as tabular_run\n",
        "import experiments.tabular_subspace_exp as tabular_sub_run\n",
        "\n",
        "print(jax.device_count())"
      ],
      "execution_count": null,
      "outputs": [
        {
          "output_type": "stream",
          "name": "stderr",
          "text": [
            "WARNING:absl:No GPU/TPU found, falling back to CPU. (Set TF_CPP_MIN_LOG_LEVEL=0 and rerun for more info.)\n"
          ]
        },
        {
          "output_type": "stream",
          "name": "stdout",
          "text": [
            "1\n"
          ]
        }
      ]
    },
    {
      "cell_type": "code",
      "metadata": {
        "id": "8gnJYer1EaiV"
      },
      "source": [
        "def get_config(results_filename):\n",
        "  \"\"\"Get the default hyperparameter configuration.\"\"\"\n",
        "  config = ml_collections.ConfigDict()\n",
        "  config.filepath = results_filename\n",
        "  config.ntrials = 2 # was 10 in paper\n",
        "  return config"
      ],
      "execution_count": null,
      "outputs": []
    },
    {
      "cell_type": "code",
      "metadata": {
        "id": "Yo1dXiJSEaiV"
      },
      "source": [
        "timestamp = datetime.timestamp(datetime.now())"
      ],
      "execution_count": null,
      "outputs": []
    },
    {
      "cell_type": "code",
      "metadata": {
        "id": "QuYleUSEG-or"
      },
      "source": [
        "def plot_figure(data, x, y, filename, figsize=(24, 9), log_scale=False):   \n",
        "    sns.set(font_scale=1.5)\n",
        "    plt.style.use(\"seaborn-poster\")\n",
        "\n",
        "    fig, ax = plt.subplots(figsize=figsize, dpi=300)\n",
        "    g = sns.barplot(x=x, y=y, hue=\"Method\", data=data, errwidth=2, ax=ax, palette=colors)\n",
        "    if log_scale:\n",
        "        g.set_yscale(\"log\")\n",
        "    plt.legend(loc='upper left', bbox_to_anchor=(1.0, 1.0))\n",
        "    plt.tight_layout()\n",
        "    plt.savefig(f\"./figures/{filename}.png\")\n",
        "    plt.show()\n",
        "\n",
        "def read_data(dataset_name):\n",
        "    *_, filename = sorted(glob.glob(f\"./results/{dataset_name}_results*.csv\"))\n",
        "    df = pd.read_csv(filename)\n",
        "    if dataset_name==\"mnist\":\n",
        "        linear_df = df[(df[\"Method\"]==\"Lin-KF\") | (df[\"Method\"]==\"Lin\")].copy()\n",
        "        linear_df[\"Model\"] = \"MLP2\"\n",
        "        df = df.append(linear_df)\n",
        "        linear_df[\"Model\"] = \"LeNet5\"\n",
        "        df = df.append(linear_df)\n",
        "\n",
        "    by = [\"Rank\"] if dataset_name==\"tabular\" else [\"Rank\", \"AltRank\"]\n",
        "\n",
        "    data_up = df.sort_values(by=by).copy()\n",
        "    data_down = df.sort_values(by=by).copy()\n",
        "\n",
        "    data_up[\"Reward\"] = data_up[\"Reward\"] + data_up[\"Std\"]\n",
        "    data_down[\"Reward\"] = data_down[\"Reward\"] - data_down[\"Std\"]\n",
        "    data = pd.concat([data_up, data_down])\n",
        "    return data\n",
        "\n",
        "def plot_subspace_figure(df, filename=None):\n",
        "    df = df.reset_index().drop(columns=[\"index\"])\n",
        "    plt.style.use(\"seaborn-darkgrid\")\n",
        "    fig, ax = plt.subplots(figsize=(12, 8))\n",
        "    sns.lineplot(x=\"Subspace Dim\", y=\"Reward\", hue=\"Method\", marker=\"o\", data=df)\n",
        "    lines, labels = ax.get_legend_handles_labels()\n",
        "    for line, method in zip(lines, labels):\n",
        "        data = df[df[\"Method\"]==method]\n",
        "        color = line.get_c()\n",
        "        y_lower_bound =  data[\"Reward\"] -  data[\"Std\"]\n",
        "        y_upper_bound = data[\"Reward\"] + data[\"Std\"]\n",
        "        ax.fill_between(data[\"Subspace Dim\"],  y_lower_bound, y_upper_bound, color=color, alpha=0.3)\n",
        "\n",
        "    ax.set_ylabel(\"Reward\", fontsize=16)\n",
        "    plt.setp(ax.get_xticklabels(), fontsize=16) \n",
        "    plt.setp(ax.get_yticklabels(), fontsize=16) \n",
        "    ax.set_xlabel(\"Subspace Dimension(d)\", fontsize=16)\n",
        "    dataset = df.iloc[0][\"Dataset\"]\n",
        "    ax.set_title(f\"{dataset.title()} - Subspace Dim vs. Reward\", fontsize=18)\n",
        "    legend = ax.legend(loc=\"lower right\", prop={'size': 16},frameon=1)\n",
        "    frame = legend.get_frame()\n",
        "    frame.set_color('white')\n",
        "    frame.set_alpha(0.6)\n",
        "    \n",
        "    file_path = \"./figures/\"\n",
        "    file_path = file_path + f\"{dataset}_sub_reward.png\" if filename is None else file_path + f\"{filename}.png\"\n",
        "    plt.savefig(file_path)"
      ],
      "execution_count": null,
      "outputs": []
    },
    {
      "cell_type": "markdown",
      "metadata": {
        "id": "NaqV5SteEaiV"
      },
      "source": [
        "# Run tabular experiments"
      ]
    },
    {
      "cell_type": "code",
      "source": [
        "%cd /content/bandits/bandits"
      ],
      "metadata": {
        "id": "XVOocnQw7mKl",
        "outputId": "bb987eec-617c-448e-cb7a-9274381c4f2c",
        "colab": {
          "base_uri": "https://localhost:8080/"
        }
      },
      "execution_count": null,
      "outputs": [
        {
          "output_type": "stream",
          "name": "stdout",
          "text": [
            "/content/bandits/bandits/experiments\n"
          ]
        }
      ]
    },
    {
      "cell_type": "code",
      "metadata": {
        "id": "zoWaUbkdEaiX",
        "colab": {
          "base_uri": "https://localhost:8080/"
        },
        "outputId": "e6db79b7-ac55-452d-aa7d-23449547bb69"
      },
      "source": [
        "tabular_filename = f\"./results/tabular_results_{timestamp}.csv\"\n",
        "config = get_config(tabular_filename)\n",
        "tabular_run.main(config)"
      ],
      "execution_count": null,
      "outputs": [
        {
          "output_type": "stream",
          "name": "stdout",
          "text": [
            "Environment :  shuttle\n",
            "\tBandit : Linear\n",
            "\t\tExpected Reward : 4413.50 ± 4.50\n",
            "\t\tTime : 10.469s\n",
            "\tBandit : Linear KF\n",
            "\t\tExpected Reward : 4414.50 ± 4.50\n",
            "\t\tTime : 6.309s\n",
            "\tBandit : Linear Wide\n",
            "\t\tExpected Reward : 4210.00 ± 10.00\n",
            "\t\tTime : 25.030s\n",
            "\tBandit : Limited Neural Linear\n",
            "\t\tExpected Reward : 3840.00 ± 3.00\n",
            "\t\tTime : 23.608s\n",
            "\tBandit : Unlimited Neural Linear\n",
            "\t\tExpected Reward : 4089.00 ± 70.00\n",
            "\t\tTime : 42.628s\n",
            "\tBandit : EKF Subspace SVD\n",
            "\t\tExpected Reward : 4731.00 ± 116.00\n",
            "\t\tTime : 198.925s\n",
            "\tBandit : EKF Subspace RND\n",
            "\t\tExpected Reward : 4846.50 ± 1.50\n",
            "\t\tTime : 199.065s\n",
            "\tBandit : EKF Diagonal Subspace SVD\n",
            "\t\tExpected Reward : 4831.00 ± 0.00\n",
            "\t\tTime : 9.122s\n",
            "\tBandit : EKF Diagonal Subspace RND\n",
            "\t\tExpected Reward : 4797.00 ± 0.00\n",
            "\t\tTime : 9.127s\n",
            "\tBandit : EKF Orig Diagonal\n",
            "\t\tExpected Reward : 3915.00 ± 4.00\n",
            "\t\tTime : 6.106s\n",
            "\tBandit : EKF Orig Full\n",
            "\t\tExpected Reward : 3913.00 ± 2.00\n",
            "\t\tTime : 875.099s\n",
            "Environment :  covertype\n",
            "\tBandit : Linear\n",
            "\t\tExpected Reward : 3016.50 ± 13.50\n",
            "\t\tTime : 20.976s\n",
            "\tBandit : Linear KF\n",
            "\t\tExpected Reward : 3014.50 ± 11.50\n",
            "\t\tTime : 10.928s\n",
            "\tBandit : Linear Wide\n",
            "\t\tExpected Reward : 1831.50 ± 5.50\n",
            "\t\tTime : 272.890s\n",
            "\tBandit : Limited Neural Linear\n",
            "\t\tExpected Reward : 1835.00 ± 4.00\n",
            "\t\tTime : 20.702s\n",
            "\tBandit : Unlimited Neural Linear\n",
            "\t\tExpected Reward : 2760.00 ± 26.00\n",
            "\t\tTime : 44.914s\n",
            "\tBandit : EKF Subspace SVD\n",
            "\t\tExpected Reward : 3211.00 ± 12.00\n",
            "\t\tTime : 211.246s\n",
            "\tBandit : EKF Subspace RND\n",
            "\t\tExpected Reward : 3216.00 ± 3.00\n",
            "\t\tTime : 212.506s\n",
            "\tBandit : EKF Diagonal Subspace SVD\n",
            "\t\tExpected Reward : 2315.00 ± 0.00\n",
            "\t\tTime : 17.255s\n",
            "\tBandit : EKF Diagonal Subspace RND\n",
            "\t\tExpected Reward : 2766.00 ± 0.00\n",
            "\t\tTime : 16.895s\n",
            "\tBandit : EKF Orig Diagonal\n",
            "\t\tExpected Reward : 1369.00 ± 1025.00\n",
            "\t\tTime : 4.503s\n",
            "\tBandit : EKF Orig Full\n"
          ]
        }
      ]
    },
    {
      "cell_type": "code",
      "metadata": {
        "id": "6Jkow86vHXBl"
      },
      "source": [
        "dataset_name = \"tabular\"\n",
        "tabular_df = read_data(dataset_name)\n",
        "tabular_rows = ['EKF-Sub-SVD', 'EKF-Sub-RND', 'EKF-Sub-Diag-SVD', 'EKF-Sub-Diag-RND',\n",
        "                'EKF-Orig-Full',  'EKF-Orig-Diag', 'NL-Lim', 'NL-Unlim', 'Lin', 'Lim2', 'NeuralTS']\n",
        "tabular_df = tabular_df[tabular_df['Method'].isin(tabular_rows)]"
      ],
      "execution_count": null,
      "outputs": []
    },
    {
      "cell_type": "code",
      "metadata": {
        "id": "YO4xTn4THjMN"
      },
      "source": [
        "x, y = \"Dataset\", \"Reward\"\n",
        "filename = f\"{dataset_name}_{y.lower()}\"\n",
        "plot_figure(tabular_df, x, y, filename)"
      ],
      "execution_count": null,
      "outputs": []
    },
    {
      "cell_type": "code",
      "metadata": {
        "id": "Eh_9zkdLHmU-"
      },
      "source": [
        "x, y = \"Dataset\", \"Time\"\n",
        "filename = f\"{dataset_name}_{y.lower()}\"\n",
        "plot_figure(tabular_df[tabular_df[\"Method\"] != \"NeuralTS\"], x, y, filename, log_scale=True)"
      ],
      "execution_count": null,
      "outputs": []
    },
    {
      "cell_type": "markdown",
      "metadata": {
        "id": "tUxNfJnoEaiZ"
      },
      "source": [
        "# Run movielens experiments"
      ]
    },
    {
      "cell_type": "code",
      "metadata": {
        "id": "XkzXuQp3Eaia"
      },
      "source": [
        "movielens_filename = f\"./results/movielens_results_{timestamp}.csv\"\n",
        "config = get_config(movielens_filename)\n",
        "movielens_run.main(config)"
      ],
      "execution_count": null,
      "outputs": []
    },
    {
      "cell_type": "code",
      "metadata": {
        "id": "JME59OYvILCs"
      },
      "source": [
        "dataset_name = \"movielens\"\n",
        "movielens_df = read_data(dataset_name)\n",
        "movielens_rows =  ['EKF-Sub-SVD', 'EKF-Sub-RND', 'EKF-Sub-Diag-SVD', 'EKF-Sub-Diag-RND',\n",
        "                   'EKF-Orig-Diag', 'NL-Lim', 'NL-Unlim', 'Lin']\n",
        "movielens_df = movielens_df[movielens_df['Method'].isin(movielens_rows)]"
      ],
      "execution_count": null,
      "outputs": []
    },
    {
      "cell_type": "code",
      "metadata": {
        "id": "cJ37A_YtIM9i"
      },
      "source": [
        "x, y = \"Model\", \"Reward\"\n",
        "filename = f\"{dataset_name}_{y.lower()}\"\n",
        "plot_figure(movielens_df, x, y, filename)"
      ],
      "execution_count": null,
      "outputs": []
    },
    {
      "cell_type": "code",
      "metadata": {
        "id": "KDLNAIQ6IPFT"
      },
      "source": [
        "x, y = \"Model\", \"Time\"\n",
        "filename = f\"{dataset_name}_{y.lower()}\"\n",
        "plot_figure(movielens_df, x, y, filename)"
      ],
      "execution_count": null,
      "outputs": []
    },
    {
      "cell_type": "markdown",
      "metadata": {
        "id": "PkJlfdAyEaiX"
      },
      "source": [
        "# Run MNIST experiments"
      ]
    },
    {
      "cell_type": "code",
      "metadata": {
        "id": "9J26gcVTEaiZ"
      },
      "source": [
        "mnist_filename = f\"./results/mnist_results_{timestamp}.csv\"\n",
        "config = get_config(mnist_filename)\n",
        "mnist_run.main(config)"
      ],
      "execution_count": null,
      "outputs": []
    },
    {
      "cell_type": "code",
      "metadata": {
        "id": "I0--fVenH7kK"
      },
      "source": [
        "method_ordering = {\"EKF-Sub-SVD\": 0,\n",
        "                   \"EKF-Sub-RND\": 1,\n",
        "                   \"EKF-Sub-Diag-SVD\": 2,\n",
        "                   \"EKF-Sub-Diag-RND\": 3,\n",
        "                   \"EKF-Orig-Full\": 4,\n",
        "                   \"EKF-Orig-Diag\": 5,\n",
        "                   \"NL-Lim\": 6,\n",
        "                   \"NL-Unlim\": 7,\n",
        "                   \"Lin\": 8,\n",
        "                   \"Lin-KF\": 9,\n",
        "                   \"Lin-Wide\": 9,\n",
        "                   \"Lim2\": 10,\n",
        "                   \"NeuralTS\": 11}\n",
        "                   \n",
        "colors = {k : sns.color_palette(\"Paired\")[v]\n",
        "          if k!=\"Lin-KF\" else  sns.color_palette(\"tab20\")[8]\n",
        "          for k,v in method_ordering.items()}"
      ],
      "execution_count": null,
      "outputs": []
    },
    {
      "cell_type": "code",
      "metadata": {
        "id": "8AwA3qTaH-Oo"
      },
      "source": [
        "dataset_name = \"mnist\"\n",
        "# For possible methods, run mnist_df.Method.unique()\n",
        "mnist_rows = ['EKF-Sub-SVD', 'EKF-Sub-RND', 'EKF-Sub-Diag-SVD', 'EKF-Sub-Diag-RND', 'EKF-Orig-Diag', 'NL-Lim', 'NL-Unlim', 'Lin']"
      ],
      "execution_count": null,
      "outputs": []
    },
    {
      "cell_type": "code",
      "metadata": {
        "id": "lbpYHsbXIAf_"
      },
      "source": [
        "mnist_df = read_data(dataset_name)\n",
        "mnist_df = mnist_df[mnist_df['Method'].isin(mnist_rows)]"
      ],
      "execution_count": null,
      "outputs": []
    },
    {
      "cell_type": "code",
      "metadata": {
        "id": "d7AUy1jjICGJ"
      },
      "source": [
        "x, y = \"Model\", \"Reward\"\n",
        "filename = f\"{dataset_name}_{y.lower()}\"\n",
        "plot_figure(mnist_df, x, y, filename)"
      ],
      "execution_count": null,
      "outputs": []
    },
    {
      "cell_type": "code",
      "metadata": {
        "id": "WoNF2EB6IEPQ"
      },
      "source": [
        "x, y = \"Model\", \"Time\"\n",
        "filename = f\"{dataset_name}_{y.lower()}\"\n",
        "plot_figure(mnist_df, x, y, filename, log_scale=True)"
      ],
      "execution_count": null,
      "outputs": []
    },
    {
      "cell_type": "markdown",
      "metadata": {
        "id": "a_dE_wIQEaia"
      },
      "source": [
        "# Run tabular subspace experiment"
      ]
    },
    {
      "cell_type": "code",
      "metadata": {
        "id": "4usZ5SIdEaib"
      },
      "source": [
        "tabular_sub_filename = f\"./results/tabular_subspace_results_{timestamp}.csv\"\n",
        "config = get_config(tabular_sub_filename)\n",
        "tabular_sub_run.main(config)"
      ],
      "execution_count": null,
      "outputs": []
    },
    {
      "cell_type": "code",
      "metadata": {
        "id": "xGAjjg5bIRfN"
      },
      "source": [
        "*_, filename = sorted(glob.glob(f\"./results/tabular_subspace_results*.csv\"))\n",
        "tabular_sub_df = pd.read_csv(filename)"
      ],
      "execution_count": null,
      "outputs": []
    },
    {
      "cell_type": "code",
      "metadata": {
        "id": "BP-hf3XbITZy"
      },
      "source": [
        "dataset_name = \"shuttle\"\n",
        "shuttle = tabular_sub_df[tabular_sub_df[\"Dataset\"]==dataset_name]\n",
        "plot_subspace_figure(shuttle)"
      ],
      "execution_count": null,
      "outputs": []
    },
    {
      "cell_type": "code",
      "metadata": {
        "id": "wKV6qFqsITAY"
      },
      "source": [
        "dataset_name = \"adult\"\n",
        "adult = tabular_sub_df[tabular_sub_df[\"Dataset\"]==dataset_name]\n",
        "plot_subspace_figure(adult)"
      ],
      "execution_count": null,
      "outputs": []
    },
    {
      "cell_type": "code",
      "metadata": {
        "id": "s7K8-ONgIW1k"
      },
      "source": [
        "dataset_name = \"covertype\"\n",
        "covertype = tabular_sub_df[tabular_sub_df[\"Dataset\"]==dataset_name]\n",
        "plot_subspace_figure(covertype)"
      ],
      "execution_count": null,
      "outputs": []
    }
  ]
}