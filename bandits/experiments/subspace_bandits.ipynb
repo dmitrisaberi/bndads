{
  "nbformat": 4,
  "nbformat_minor": 0,
  "metadata": {
    "interpreter": {
      "hash": "916dbcbb3f70747c44a77c7bcd40155683ae19c65e1c03b4aa3499c5328201f1"
    },
    "kernelspec": {
      "name": "python3",
      "display_name": "Python 3"
    },
    "colab": {
      "name": "subspace-bandits.ipynb",
      "provenance": [],
      "toc_visible": true,
      "machine_shape": "hm",
      "include_colab_link": true
    },
    "language_info": {
      "name": "python"
    },
    "accelerator": "TPU"
  },
  "cells": [
    {
      "cell_type": "markdown",
      "metadata": {
        "id": "view-in-github",
        "colab_type": "text"
      },
      "source": [
        "<a href=\"https://colab.research.google.com/github/probml/bandits/blob/main/bandits/experiments/subspace_bandits.ipynb\" target=\"_parent\"><img src=\"https://colab.research.google.com/assets/colab-badge.svg\" alt=\"Open In Colab\"/></a>"
      ]
    },
    {
      "cell_type": "code",
      "metadata": {
        "colab": {
          "base_uri": "https://localhost:8080/"
        },
        "id": "fjs5Hm5_Env3",
        "outputId": "6e4b71d4-722f-4c79-c878-db7e439e1fdf"
      },
      "source": [
        "#!git clone --depth 1 https://github.com/probml/bandits\n",
        "!pip install git+https://github.com/probml/bandits\n"
      ],
      "execution_count": 8,
      "outputs": [
        {
          "output_type": "stream",
          "name": "stdout",
          "text": [
            "Collecting git+https://github.com/probml/bandits\n",
            "  Cloning https://github.com/probml/bandits to /tmp/pip-req-build-bg3tr784\n",
            "  Running command git clone -q https://github.com/probml/bandits /tmp/pip-req-build-bg3tr784\n",
            "\u001b[31mERROR: File \"setup.py\" not found for legacy project git+https://github.com/probml/bandits.\u001b[0m\n"
          ]
        }
      ]
    },
    {
      "cell_type": "code",
      "metadata": {
        "colab": {
          "base_uri": "https://localhost:8080/"
        },
        "id": "G3QHKjrWLTCP",
        "outputId": "f75cc4c9-e955-4d63-ce45-80cff9a98df1"
      },
      "source": [
        "!ls"
      ],
      "execution_count": 2,
      "outputs": [
        {
          "output_type": "stream",
          "name": "stdout",
          "text": [
            "bandits  sample_data\n"
          ]
        }
      ]
    },
    {
      "cell_type": "code",
      "metadata": {
        "colab": {
          "base_uri": "https://localhost:8080/"
        },
        "id": "IgQ7Wq37LUQG",
        "outputId": "7643a7c6-b57f-4b76-897f-0dc161a8f01a"
      },
      "source": [
        "%cd bandits"
      ],
      "execution_count": 3,
      "outputs": [
        {
          "output_type": "stream",
          "name": "stdout",
          "text": [
            "/content/bandits\n"
          ]
        }
      ]
    },
    {
      "cell_type": "code",
      "metadata": {
        "colab": {
          "base_uri": "https://localhost:8080/"
        },
        "id": "G8Xx6I9QLV3e",
        "outputId": "bfb06c49-f13f-40c0-8264-6f1c95cf58ef"
      },
      "source": [
        "!ls"
      ],
      "execution_count": 4,
      "outputs": [
        {
          "output_type": "stream",
          "name": "stdout",
          "text": [
            "bandit-data  bandits  experiments  LICENSE  README.md\n"
          ]
        }
      ]
    },
    {
      "cell_type": "code",
      "metadata": {
        "id": "-v17u8IvF4r5"
      },
      "source": [
        "%%capture\n",
        "\n",
        "# https://github.com/probml/superimport\n",
        "!pip install superimport\n",
        "\n"
      ],
      "execution_count": 5,
      "outputs": []
    },
    {
      "cell_type": "code",
      "metadata": {
        "id": "Bu0fD71JEaiR"
      },
      "source": [
        "%%capture\n",
        "\n",
        "!pip install -qqq ml-collections\n",
        "!pip install git+git://github.com/deepmind/optax.git\n",
        "!pip install --upgrade git+https://github.com/google/flax.git"
      ],
      "execution_count": 6,
      "outputs": []
    },
    {
      "cell_type": "code",
      "metadata": {
        "tags": [],
        "id": "YSgufIApEaiU",
        "colab": {
          "base_uri": "https://localhost:8080/",
          "height": 374
        },
        "outputId": "86b10072-8af5-4a01-fb9d-c45bb34fdf06"
      },
      "source": [
        "import os\n",
        "#os.chdir(\"..\")\n",
        "\n",
        "import jax\n",
        "import ml_collections\n",
        "\n",
        "import pandas as pd\n",
        "\n",
        "import glob\n",
        "from datetime import datetime\n",
        "\n",
        "import experiments.movielens_exp as movielens_run\n",
        "import experiments.mnist_exp as mnist_run\n",
        "import experiments.tabular_exp as tabular_run\n",
        "import experiments.tabular_subspace_exp as tabular_sub_run\n",
        "\n",
        "print(jax.device_count())"
      ],
      "execution_count": 9,
      "outputs": [
        {
          "output_type": "error",
          "ename": "ModuleNotFoundError",
          "evalue": "ignored",
          "traceback": [
            "\u001b[0;31m---------------------------------------------------------------------------\u001b[0m",
            "\u001b[0;31mModuleNotFoundError\u001b[0m                       Traceback (most recent call last)",
            "\u001b[0;32m<ipython-input-9-4fcfb6cd4508>\u001b[0m in \u001b[0;36m<module>\u001b[0;34m()\u001b[0m\n\u001b[1;32m     10\u001b[0m \u001b[0;32mfrom\u001b[0m \u001b[0mdatetime\u001b[0m \u001b[0;32mimport\u001b[0m \u001b[0mdatetime\u001b[0m\u001b[0;34m\u001b[0m\u001b[0;34m\u001b[0m\u001b[0m\n\u001b[1;32m     11\u001b[0m \u001b[0;34m\u001b[0m\u001b[0m\n\u001b[0;32m---> 12\u001b[0;31m \u001b[0;32mimport\u001b[0m \u001b[0mexperiments\u001b[0m\u001b[0;34m.\u001b[0m\u001b[0mmovielens_exp\u001b[0m \u001b[0;32mas\u001b[0m \u001b[0mmovielens_run\u001b[0m\u001b[0;34m\u001b[0m\u001b[0;34m\u001b[0m\u001b[0m\n\u001b[0m\u001b[1;32m     13\u001b[0m \u001b[0;32mimport\u001b[0m \u001b[0mexperiments\u001b[0m\u001b[0;34m.\u001b[0m\u001b[0mmnist_exp\u001b[0m \u001b[0;32mas\u001b[0m \u001b[0mmnist_run\u001b[0m\u001b[0;34m\u001b[0m\u001b[0;34m\u001b[0m\u001b[0m\n\u001b[1;32m     14\u001b[0m \u001b[0;32mimport\u001b[0m \u001b[0mexperiments\u001b[0m\u001b[0;34m.\u001b[0m\u001b[0mtabular_exp\u001b[0m \u001b[0;32mas\u001b[0m \u001b[0mtabular_run\u001b[0m\u001b[0;34m\u001b[0m\u001b[0;34m\u001b[0m\u001b[0m\n",
            "\u001b[0;31mModuleNotFoundError\u001b[0m: No module named 'experiments.movielens_exp'",
            "",
            "\u001b[0;31m---------------------------------------------------------------------------\u001b[0;32m\nNOTE: If your import is failing due to a missing package, you can\nmanually install dependencies using either !pip or !apt.\n\nTo view examples of installing some common dependencies, click the\n\"Open Examples\" button below.\n\u001b[0;31m---------------------------------------------------------------------------\u001b[0m\n"
          ],
          "errorDetails": {
            "actions": [
              {
                "action": "open_url",
                "actionText": "Open Examples",
                "url": "/notebooks/snippets/importing_libraries.ipynb"
              }
            ]
          }
        }
      ]
    },
    {
      "cell_type": "code",
      "metadata": {
        "id": "8gnJYer1EaiV"
      },
      "source": [
        "def get_config(results_filename):\n",
        "  \"\"\"Get the default hyperparameter configuration.\"\"\"\n",
        "  config = ml_collections.ConfigDict()\n",
        "  config.filepath = results_filename\n",
        "  config.ntrials = 2 # was 10 in paper\n",
        "  return config"
      ],
      "execution_count": 15,
      "outputs": []
    },
    {
      "cell_type": "code",
      "metadata": {
        "id": "Yo1dXiJSEaiV"
      },
      "source": [
        "timestamp = datetime.timestamp(datetime.now())"
      ],
      "execution_count": 16,
      "outputs": []
    },
    {
      "cell_type": "code",
      "metadata": {
        "id": "QuYleUSEG-or"
      },
      "source": [
        "def plot_figure(data, x, y, filename, figsize=(24, 9), log_scale=False):   \n",
        "    sns.set(font_scale=1.5)\n",
        "    plt.style.use(\"seaborn-poster\")\n",
        "\n",
        "    fig, ax = plt.subplots(figsize=figsize, dpi=300)\n",
        "    g = sns.barplot(x=x, y=y, hue=\"Method\", data=data, errwidth=2, ax=ax, palette=colors)\n",
        "    if log_scale:\n",
        "        g.set_yscale(\"log\")\n",
        "    plt.legend(loc='upper left', bbox_to_anchor=(1.0, 1.0))\n",
        "    plt.tight_layout()\n",
        "    plt.savefig(f\"./figures/{filename}.png\")\n",
        "    plt.show()\n",
        "\n",
        "def read_data(dataset_name):\n",
        "    *_, filename = sorted(glob.glob(f\"./results/{dataset_name}_results*.csv\"))\n",
        "    df = pd.read_csv(filename)\n",
        "    if dataset_name==\"mnist\":\n",
        "        linear_df = df[(df[\"Method\"]==\"Lin-KF\") | (df[\"Method\"]==\"Lin\")].copy()\n",
        "        linear_df[\"Model\"] = \"MLP2\"\n",
        "        df = df.append(linear_df)\n",
        "        linear_df[\"Model\"] = \"LeNet5\"\n",
        "        df = df.append(linear_df)\n",
        "\n",
        "    by = [\"Rank\"] if dataset_name==\"tabular\" else [\"Rank\", \"AltRank\"]\n",
        "\n",
        "    data_up = df.sort_values(by=by).copy()\n",
        "    data_down = df.sort_values(by=by).copy()\n",
        "\n",
        "    data_up[\"Reward\"] = data_up[\"Reward\"] + data_up[\"Std\"]\n",
        "    data_down[\"Reward\"] = data_down[\"Reward\"] - data_down[\"Std\"]\n",
        "    data = pd.concat([data_up, data_down])\n",
        "    return data\n",
        "\n",
        "def plot_subspace_figure(df, filename=None):\n",
        "    df = df.reset_index().drop(columns=[\"index\"])\n",
        "    plt.style.use(\"seaborn-darkgrid\")\n",
        "    fig, ax = plt.subplots(figsize=(12, 8))\n",
        "    sns.lineplot(x=\"Subspace Dim\", y=\"Reward\", hue=\"Method\", marker=\"o\", data=df)\n",
        "    lines, labels = ax.get_legend_handles_labels()\n",
        "    for line, method in zip(lines, labels):\n",
        "        data = df[df[\"Method\"]==method]\n",
        "        color = line.get_c()\n",
        "        y_lower_bound =  data[\"Reward\"] -  data[\"Std\"]\n",
        "        y_upper_bound = data[\"Reward\"] + data[\"Std\"]\n",
        "        ax.fill_between(data[\"Subspace Dim\"],  y_lower_bound, y_upper_bound, color=color, alpha=0.3)\n",
        "\n",
        "    ax.set_ylabel(\"Reward\", fontsize=16)\n",
        "    plt.setp(ax.get_xticklabels(), fontsize=16) \n",
        "    plt.setp(ax.get_yticklabels(), fontsize=16) \n",
        "    ax.set_xlabel(\"Subspace Dimension(d)\", fontsize=16)\n",
        "    dataset = df.iloc[0][\"Dataset\"]\n",
        "    ax.set_title(f\"{dataset.title()} - Subspace Dim vs. Reward\", fontsize=18)\n",
        "    legend = ax.legend(loc=\"lower right\", prop={'size': 16},frameon=1)\n",
        "    frame = legend.get_frame()\n",
        "    frame.set_color('white')\n",
        "    frame.set_alpha(0.6)\n",
        "    \n",
        "    file_path = \"./figures/\"\n",
        "    file_path = file_path + f\"{dataset}_sub_reward.png\" if filename is None else file_path + f\"{filename}.png\"\n",
        "    plt.savefig(file_path)"
      ],
      "execution_count": null,
      "outputs": []
    },
    {
      "cell_type": "markdown",
      "metadata": {
        "id": "NaqV5SteEaiV"
      },
      "source": [
        "# Run tabular experiments"
      ]
    },
    {
      "cell_type": "code",
      "metadata": {
        "id": "zoWaUbkdEaiX",
        "colab": {
          "base_uri": "https://localhost:8080/"
        },
        "outputId": "426548af-de0d-447c-a5a3-9053823065a7"
      },
      "source": [
        "tabular_filename = f\"./results/tabular_results_{timestamp}.csv\"\n",
        "config = get_config(tabular_filename)\n",
        "tabular_run.main(config)"
      ],
      "execution_count": null,
      "outputs": [
        {
          "output_type": "stream",
          "name": "stdout",
          "text": [
            "Environment :  shuttle\n",
            "\tBandit : Linear\n",
            "\t\tExpected Reward : 4429.40 ± 12.75\n",
            "\t\tTime : 11.417s\n",
            "\tBandit : Linear KF\n",
            "\t\tExpected Reward : 4427.40 ± 12.29\n",
            "\t\tTime : 3.873s\n",
            "\tBandit : Linear Wide\n",
            "\t\tExpected Reward : 4210.10 ± 11.49\n",
            "\t\tTime : 7.957s\n",
            "\tBandit : Limited Neural Linear\n",
            "\t\tExpected Reward : 3868.20 ± 20.73\n",
            "\t\tTime : 11.415s\n",
            "\tBandit : Unlimited Neural Linear\n",
            "\t\tExpected Reward : 4143.90 ± 13.29\n",
            "\t\tTime : 10.318s\n",
            "\tBandit : EKF Subspace SVD\n",
            "\t\tExpected Reward : 4847.80 ± 1.08\n",
            "\t\tTime : 10.242s\n",
            "\tBandit : EKF Subspace RND\n",
            "\t\tExpected Reward : 4846.30 ± 1.79\n",
            "\t\tTime : 8.672s\n",
            "\tBandit : EKF Diagonal Subspace SVD\n",
            "\t\tExpected Reward : 4827.00 ± 0.00\n",
            "\t\tTime : 2.766s\n",
            "\tBandit : EKF Diagonal Subspace RND\n",
            "\t\tExpected Reward : 4794.00 ± 0.00\n",
            "\t\tTime : 2.472s\n",
            "\tBandit : EKF Orig Diagonal\n",
            "\t\tExpected Reward : 3594.20 ± 950.41\n",
            "\t\tTime : 2.580s\n",
            "\tBandit : EKF Orig Full\n",
            "\t\tExpected Reward : 3912.10 ± 6.22\n",
            "\t\tTime : 22.319s\n",
            "Environment :  covertype\n",
            "\tBandit : Linear\n",
            "\t\tExpected Reward : 3020.10 ± 20.94\n",
            "\t\tTime : 7.287s\n",
            "\tBandit : Linear KF\n",
            "\t\tExpected Reward : 3021.30 ± 21.11\n",
            "\t\tTime : 3.689s\n",
            "\tBandit : Linear Wide\n",
            "\t\tExpected Reward : 1832.10 ± 10.91\n",
            "\t\tTime : 99.887s\n",
            "\tBandit : Limited Neural Linear\n",
            "\t\tExpected Reward : 1832.80 ± 2.86\n",
            "\t\tTime : 9.278s\n",
            "\tBandit : Unlimited Neural Linear\n",
            "\t\tExpected Reward : 2751.60 ± 37.71\n",
            "\t\tTime : 9.952s\n",
            "\tBandit : EKF Subspace SVD\n",
            "\t\tExpected Reward : 3208.40 ± 25.32\n",
            "\t\tTime : 8.743s\n",
            "\tBandit : EKF Subspace RND\n",
            "\t\tExpected Reward : 3215.60 ± 22.08\n",
            "\t\tTime : 8.398s\n",
            "\tBandit : EKF Diagonal Subspace SVD\n",
            "\t\tExpected Reward : 2446.00 ± 0.00\n",
            "\t\tTime : 2.893s\n",
            "\tBandit : EKF Diagonal Subspace RND\n",
            "\t\tExpected Reward : 2659.00 ± 0.00\n",
            "\t\tTime : 2.506s\n",
            "\tBandit : EKF Orig Diagonal\n",
            "\t\tExpected Reward : 1776.10 ± 937.75\n",
            "\t\tTime : 3.065s\n",
            "\tBandit : EKF Orig Full\n",
            "\t\tExpected Reward : 2167.10 ± 269.98\n",
            "\t\tTime : 410.220s\n",
            "Environment :  adult\n",
            "\tBandit : Linear\n",
            "\t\tExpected Reward : 4049.50 ± 21.24\n",
            "\t\tTime : 10.821s\n",
            "\tBandit : Linear KF\n",
            "\t\tExpected Reward : 4050.50 ± 16.69\n",
            "\t\tTime : 4.125s\n",
            "\tBandit : Linear Wide\n",
            "\t\tExpected Reward : 3775.90 ± 0.30\n",
            "\t\tTime : 18.733s\n",
            "\tBandit : Limited Neural Linear\n",
            "\t\tExpected Reward : 3766.00 ± 5.44\n",
            "\t\tTime : 10.005s\n",
            "\tBandit : Unlimited Neural Linear\n",
            "\t\tExpected Reward : 3824.00 ± 34.47\n",
            "\t\tTime : 10.360s\n",
            "\tBandit : EKF Subspace SVD\n",
            "\t\tExpected Reward : 4059.80 ± 4.77\n",
            "\t\tTime : 9.337s\n",
            "\tBandit : EKF Subspace RND\n",
            "\t\tExpected Reward : 3991.90 ± 8.48\n",
            "\t\tTime : 8.777s\n",
            "\tBandit : EKF Diagonal Subspace SVD\n",
            "\t\tExpected Reward : 3939.00 ± 0.00\n",
            "\t\tTime : 2.968s\n",
            "\tBandit : EKF Diagonal Subspace RND\n",
            "\t\tExpected Reward : 3903.00 ± 0.00\n",
            "\t\tTime : 2.579s\n",
            "\tBandit : EKF Orig Diagonal\n",
            "\t\tExpected Reward : 3268.30 ± 1015.15\n",
            "\t\tTime : 3.054s\n",
            "\tBandit : EKF Orig Full\n"
          ]
        }
      ]
    },
    {
      "cell_type": "code",
      "metadata": {
        "id": "6Jkow86vHXBl"
      },
      "source": [
        "dataset_name = \"tabular\"\n",
        "tabular_df = read_data(dataset_name)\n",
        "tabular_rows = ['EKF-Sub-SVD', 'EKF-Sub-RND', 'EKF-Sub-Diag-SVD', 'EKF-Sub-Diag-RND',\n",
        "                'EKF-Orig-Full',  'EKF-Orig-Diag', 'NL-Lim', 'NL-Unlim', 'Lin', 'Lim2', 'NeuralTS']\n",
        "tabular_df = tabular_df[tabular_df['Method'].isin(tabular_rows)]"
      ],
      "execution_count": null,
      "outputs": []
    },
    {
      "cell_type": "code",
      "metadata": {
        "id": "YO4xTn4THjMN"
      },
      "source": [
        "x, y = \"Dataset\", \"Reward\"\n",
        "filename = f\"{dataset_name}_{y.lower()}\"\n",
        "plot_figure(tabular_df, x, y, filename)"
      ],
      "execution_count": null,
      "outputs": []
    },
    {
      "cell_type": "code",
      "metadata": {
        "id": "Eh_9zkdLHmU-"
      },
      "source": [
        "x, y = \"Dataset\", \"Time\"\n",
        "filename = f\"{dataset_name}_{y.lower()}\"\n",
        "plot_figure(tabular_df[tabular_df[\"Method\"] != \"NeuralTS\"], x, y, filename, log_scale=True)"
      ],
      "execution_count": null,
      "outputs": []
    },
    {
      "cell_type": "markdown",
      "metadata": {
        "id": "tUxNfJnoEaiZ"
      },
      "source": [
        "# Run movielens experiments"
      ]
    },
    {
      "cell_type": "code",
      "metadata": {
        "id": "XkzXuQp3Eaia"
      },
      "source": [
        "movielens_filename = f\"./results/movielens_results_{timestamp}.csv\"\n",
        "config = get_config(movielens_filename)\n",
        "movielens_run.main(config)"
      ],
      "execution_count": null,
      "outputs": []
    },
    {
      "cell_type": "code",
      "metadata": {
        "id": "JME59OYvILCs"
      },
      "source": [
        "dataset_name = \"movielens\"\n",
        "movielens_df = read_data(dataset_name)\n",
        "movielens_rows =  ['EKF-Sub-SVD', 'EKF-Sub-RND', 'EKF-Sub-Diag-SVD', 'EKF-Sub-Diag-RND',\n",
        "                   'EKF-Orig-Diag', 'NL-Lim', 'NL-Unlim', 'Lin']\n",
        "movielens_df = movielens_df[movielens_df['Method'].isin(movielens_rows)]"
      ],
      "execution_count": null,
      "outputs": []
    },
    {
      "cell_type": "code",
      "metadata": {
        "id": "cJ37A_YtIM9i"
      },
      "source": [
        "x, y = \"Model\", \"Reward\"\n",
        "filename = f\"{dataset_name}_{y.lower()}\"\n",
        "plot_figure(movielens_df, x, y, filename)"
      ],
      "execution_count": null,
      "outputs": []
    },
    {
      "cell_type": "code",
      "metadata": {
        "id": "KDLNAIQ6IPFT"
      },
      "source": [
        "x, y = \"Model\", \"Time\"\n",
        "filename = f\"{dataset_name}_{y.lower()}\"\n",
        "plot_figure(movielens_df, x, y, filename)"
      ],
      "execution_count": null,
      "outputs": []
    },
    {
      "cell_type": "markdown",
      "metadata": {
        "id": "PkJlfdAyEaiX"
      },
      "source": [
        "# Run MNIST experiments"
      ]
    },
    {
      "cell_type": "code",
      "metadata": {
        "id": "9J26gcVTEaiZ"
      },
      "source": [
        "mnist_filename = f\"./results/mnist_results_{timestamp}.csv\"\n",
        "config = get_config(mnist_filename)\n",
        "mnist_run.main(config)"
      ],
      "execution_count": null,
      "outputs": []
    },
    {
      "cell_type": "code",
      "metadata": {
        "id": "I0--fVenH7kK"
      },
      "source": [
        "method_ordering = {\"EKF-Sub-SVD\": 0,\n",
        "                   \"EKF-Sub-RND\": 1,\n",
        "                   \"EKF-Sub-Diag-SVD\": 2,\n",
        "                   \"EKF-Sub-Diag-RND\": 3,\n",
        "                   \"EKF-Orig-Full\": 4,\n",
        "                   \"EKF-Orig-Diag\": 5,\n",
        "                   \"NL-Lim\": 6,\n",
        "                   \"NL-Unlim\": 7,\n",
        "                   \"Lin\": 8,\n",
        "                   \"Lin-KF\": 9,\n",
        "                   \"Lin-Wide\": 9,\n",
        "                   \"Lim2\": 10,\n",
        "                   \"NeuralTS\": 11}\n",
        "                   \n",
        "colors = {k : sns.color_palette(\"Paired\")[v]\n",
        "          if k!=\"Lin-KF\" else  sns.color_palette(\"tab20\")[8]\n",
        "          for k,v in method_ordering.items()}"
      ],
      "execution_count": null,
      "outputs": []
    },
    {
      "cell_type": "code",
      "metadata": {
        "id": "8AwA3qTaH-Oo"
      },
      "source": [
        "dataset_name = \"mnist\"\n",
        "# For possible methods, run mnist_df.Method.unique()\n",
        "mnist_rows = ['EKF-Sub-SVD', 'EKF-Sub-RND', 'EKF-Sub-Diag-SVD', 'EKF-Sub-Diag-RND', 'EKF-Orig-Diag', 'NL-Lim', 'NL-Unlim', 'Lin']"
      ],
      "execution_count": null,
      "outputs": []
    },
    {
      "cell_type": "code",
      "metadata": {
        "id": "lbpYHsbXIAf_"
      },
      "source": [
        "mnist_df = read_data(dataset_name)\n",
        "mnist_df = mnist_df[mnist_df['Method'].isin(mnist_rows)]"
      ],
      "execution_count": null,
      "outputs": []
    },
    {
      "cell_type": "code",
      "metadata": {
        "id": "d7AUy1jjICGJ"
      },
      "source": [
        "x, y = \"Model\", \"Reward\"\n",
        "filename = f\"{dataset_name}_{y.lower()}\"\n",
        "plot_figure(mnist_df, x, y, filename)"
      ],
      "execution_count": null,
      "outputs": []
    },
    {
      "cell_type": "code",
      "metadata": {
        "id": "WoNF2EB6IEPQ"
      },
      "source": [
        "x, y = \"Model\", \"Time\"\n",
        "filename = f\"{dataset_name}_{y.lower()}\"\n",
        "plot_figure(mnist_df, x, y, filename, log_scale=True)"
      ],
      "execution_count": null,
      "outputs": []
    },
    {
      "cell_type": "markdown",
      "metadata": {
        "id": "a_dE_wIQEaia"
      },
      "source": [
        "# Run tabular subspace experiment"
      ]
    },
    {
      "cell_type": "code",
      "metadata": {
        "id": "4usZ5SIdEaib"
      },
      "source": [
        "tabular_sub_filename = f\"./results/tabular_subspace_results_{timestamp}.csv\"\n",
        "config = get_config(tabular_sub_filename)\n",
        "tabular_sub_run.main(config)"
      ],
      "execution_count": null,
      "outputs": []
    },
    {
      "cell_type": "code",
      "metadata": {
        "id": "xGAjjg5bIRfN"
      },
      "source": [
        "*_, filename = sorted(glob.glob(f\"./results/tabular_subspace_results*.csv\"))\n",
        "tabular_sub_df = pd.read_csv(filename)"
      ],
      "execution_count": null,
      "outputs": []
    },
    {
      "cell_type": "code",
      "metadata": {
        "id": "BP-hf3XbITZy"
      },
      "source": [
        "dataset_name = \"shuttle\"\n",
        "shuttle = tabular_sub_df[tabular_sub_df[\"Dataset\"]==dataset_name]\n",
        "plot_subspace_figure(shuttle)"
      ],
      "execution_count": null,
      "outputs": []
    },
    {
      "cell_type": "code",
      "metadata": {
        "id": "wKV6qFqsITAY"
      },
      "source": [
        "dataset_name = \"adult\"\n",
        "adult = tabular_sub_df[tabular_sub_df[\"Dataset\"]==dataset_name]\n",
        "plot_subspace_figure(adult)"
      ],
      "execution_count": null,
      "outputs": []
    },
    {
      "cell_type": "code",
      "metadata": {
        "id": "s7K8-ONgIW1k"
      },
      "source": [
        "dataset_name = \"covertype\"\n",
        "covertype = tabular_sub_df[tabular_sub_df[\"Dataset\"]==dataset_name]\n",
        "plot_subspace_figure(covertype)"
      ],
      "execution_count": null,
      "outputs": []
    }
  ]
}