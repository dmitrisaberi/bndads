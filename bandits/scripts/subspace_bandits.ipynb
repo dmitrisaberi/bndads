{
  "cells": [
    {
      "cell_type": "markdown",
      "metadata": {
        "colab_type": "text",
        "id": "view-in-github"
      },
      "source": [
        "<a href=\"https://colab.research.google.com/github/probml/bandits/blob/main/bandits/scripts/subspace_bandits.ipynb\" target=\"_parent\"><img src=\"https://colab.research.google.com/assets/colab-badge.svg\" alt=\"Open In Colab\"/></a>"
      ]
    },
    {
      "cell_type": "markdown",
      "metadata": {
        "id": "1o3MquliBXCr"
      },
      "source": [
        "# Bayesian Subspace bandits\n",
        "\n",
        "See  https://arxiv.org/abs/2112.00195 for details.\n"
      ]
    },
    {
      "cell_type": "markdown",
      "metadata": {
        "id": "e9DNLtCwCOTb"
      },
      "source": [
        "## Installation"
      ]
    },
    {
      "cell_type": "code",
      "execution_count": 1,
      "metadata": {
        "colab": {
          "base_uri": "https://localhost:8080/"
        },
        "id": "fjs5Hm5_Env3",
        "outputId": "e292342a-7120-4f2a-c45e-0725eb12f6a7"
      },
      "outputs": [],
      "source": [
        "# !git clone --depth 1 https://github.com/probml/bandits"
      ]
    },
    {
      "cell_type": "code",
      "execution_count": 1,
      "metadata": {},
      "outputs": [],
      "source": [
        "import matplotlib.pyplot as plt"
      ]
    },
    {
      "cell_type": "code",
      "execution_count": 2,
      "metadata": {
        "colab": {
          "base_uri": "https://localhost:8080/"
        },
        "id": "Bu0fD71JEaiR",
        "outputId": "b14bb16c-df35-4ca7-e4de-a2bf785e7267"
      },
      "outputs": [
        {
          "name": "stdout",
          "output_type": "stream",
          "text": [
            "Requirement already satisfied: jax in /Users/dmitrisaberi/opt/anaconda3/lib/python3.9/site-packages (0.3.25)\n",
            "Requirement already satisfied: jaxlib in /Users/dmitrisaberi/opt/anaconda3/lib/python3.9/site-packages (0.3.25)\n",
            "Requirement already satisfied: opt-einsum in /Users/dmitrisaberi/opt/anaconda3/lib/python3.9/site-packages (from jax) (3.3.0)\n",
            "Requirement already satisfied: numpy>=1.20 in /Users/dmitrisaberi/opt/anaconda3/lib/python3.9/site-packages (from jax) (1.21.5)\n",
            "Requirement already satisfied: typing-extensions in /Users/dmitrisaberi/opt/anaconda3/lib/python3.9/site-packages (from jax) (4.1.1)\n",
            "Requirement already satisfied: scipy>=1.5 in /Users/dmitrisaberi/opt/anaconda3/lib/python3.9/site-packages (from jax) (1.7.3)\n",
            "Requirement already satisfied: fire in /Users/dmitrisaberi/opt/anaconda3/lib/python3.9/site-packages (0.4.0)\n",
            "Requirement already satisfied: termcolor in /Users/dmitrisaberi/opt/anaconda3/lib/python3.9/site-packages (from fire) (2.1.1)\n",
            "Requirement already satisfied: six in /Users/dmitrisaberi/opt/anaconda3/lib/python3.9/site-packages (from fire) (1.16.0)\n",
            "Requirement already satisfied: ml-collections in /Users/dmitrisaberi/opt/anaconda3/lib/python3.9/site-packages (0.1.0)\n",
            "Requirement already satisfied: contextlib2 in /Users/dmitrisaberi/opt/anaconda3/lib/python3.9/site-packages (from ml-collections) (21.6.0)\n",
            "Requirement already satisfied: absl-py in /Users/dmitrisaberi/opt/anaconda3/lib/python3.9/site-packages (from ml-collections) (1.2.0)\n",
            "Requirement already satisfied: PyYAML in /Users/dmitrisaberi/opt/anaconda3/lib/python3.9/site-packages (from ml-collections) (6.0)\n",
            "Requirement already satisfied: six in /Users/dmitrisaberi/opt/anaconda3/lib/python3.9/site-packages (from ml-collections) (1.16.0)\n",
            "Collecting git+https://github.com/deepmind/optax.git\n",
            "  Cloning https://github.com/deepmind/optax.git to /private/var/folders/9t/286b6px10md3kt42t9bshfr40000gn/T/pip-req-build-ybinu26u\n",
            "  Running command git clone -q https://github.com/deepmind/optax.git /private/var/folders/9t/286b6px10md3kt42t9bshfr40000gn/T/pip-req-build-ybinu26u\n",
            "  Resolved https://github.com/deepmind/optax.git to commit ebe7168f064c44924ac124735a6c9490fbd359ed\n",
            "Requirement already satisfied: absl-py>=0.7.1 in /Users/dmitrisaberi/opt/anaconda3/lib/python3.9/site-packages (from optax==0.1.5.dev0) (1.2.0)\n",
            "Requirement already satisfied: chex>=0.1.5 in /Users/dmitrisaberi/opt/anaconda3/lib/python3.9/site-packages (from optax==0.1.5.dev0) (0.1.5)\n",
            "Requirement already satisfied: jax>=0.1.55 in /Users/dmitrisaberi/opt/anaconda3/lib/python3.9/site-packages (from optax==0.1.5.dev0) (0.3.25)\n",
            "Requirement already satisfied: jaxlib>=0.1.37 in /Users/dmitrisaberi/opt/anaconda3/lib/python3.9/site-packages (from optax==0.1.5.dev0) (0.3.25)\n",
            "Requirement already satisfied: numpy>=1.18.0 in /Users/dmitrisaberi/opt/anaconda3/lib/python3.9/site-packages (from optax==0.1.5.dev0) (1.21.5)\n",
            "Requirement already satisfied: typing_extensions>=3.10.0 in /Users/dmitrisaberi/opt/anaconda3/lib/python3.9/site-packages (from optax==0.1.5.dev0) (4.1.1)\n",
            "Requirement already satisfied: dm-tree>=0.1.5 in /Users/dmitrisaberi/opt/anaconda3/lib/python3.9/site-packages (from chex>=0.1.5->optax==0.1.5.dev0) (0.1.7)\n",
            "Requirement already satisfied: toolz>=0.9.0 in /Users/dmitrisaberi/opt/anaconda3/lib/python3.9/site-packages (from chex>=0.1.5->optax==0.1.5.dev0) (0.11.2)\n",
            "Requirement already satisfied: opt-einsum in /Users/dmitrisaberi/opt/anaconda3/lib/python3.9/site-packages (from jax>=0.1.55->optax==0.1.5.dev0) (3.3.0)\n",
            "Requirement already satisfied: scipy>=1.5 in /Users/dmitrisaberi/opt/anaconda3/lib/python3.9/site-packages (from jax>=0.1.55->optax==0.1.5.dev0) (1.7.3)\n",
            "Requirement already satisfied: flax in /Users/dmitrisaberi/opt/anaconda3/lib/python3.9/site-packages (0.6.2)\n",
            "Requirement already satisfied: optax in /Users/dmitrisaberi/opt/anaconda3/lib/python3.9/site-packages (from flax) (0.1.5.dev0)\n",
            "Requirement already satisfied: rich>=11.1 in /Users/dmitrisaberi/opt/anaconda3/lib/python3.9/site-packages (from flax) (12.6.0)\n",
            "Requirement already satisfied: PyYAML>=5.4.1 in /Users/dmitrisaberi/opt/anaconda3/lib/python3.9/site-packages (from flax) (6.0)\n",
            "Requirement already satisfied: msgpack in /Users/dmitrisaberi/opt/anaconda3/lib/python3.9/site-packages (from flax) (1.0.2)\n",
            "Requirement already satisfied: jax>=0.3.16 in /Users/dmitrisaberi/opt/anaconda3/lib/python3.9/site-packages (from flax) (0.3.25)\n",
            "Requirement already satisfied: numpy>=1.12 in /Users/dmitrisaberi/opt/anaconda3/lib/python3.9/site-packages (from flax) (1.21.5)\n",
            "Requirement already satisfied: matplotlib in /Users/dmitrisaberi/opt/anaconda3/lib/python3.9/site-packages (from flax) (3.5.1)\n",
            "Requirement already satisfied: orbax in /Users/dmitrisaberi/opt/anaconda3/lib/python3.9/site-packages (from flax) (0.0.22)\n",
            "Requirement already satisfied: tensorstore in /Users/dmitrisaberi/opt/anaconda3/lib/python3.9/site-packages (from flax) (0.1.28)\n",
            "Requirement already satisfied: typing-extensions>=4.1.1 in /Users/dmitrisaberi/opt/anaconda3/lib/python3.9/site-packages (from flax) (4.1.1)\n",
            "Requirement already satisfied: scipy>=1.5 in /Users/dmitrisaberi/opt/anaconda3/lib/python3.9/site-packages (from jax>=0.3.16->flax) (1.7.3)\n",
            "Requirement already satisfied: opt-einsum in /Users/dmitrisaberi/opt/anaconda3/lib/python3.9/site-packages (from jax>=0.3.16->flax) (3.3.0)\n",
            "Requirement already satisfied: commonmark<0.10.0,>=0.9.0 in /Users/dmitrisaberi/opt/anaconda3/lib/python3.9/site-packages (from rich>=11.1->flax) (0.9.1)\n",
            "Requirement already satisfied: pygments<3.0.0,>=2.6.0 in /Users/dmitrisaberi/opt/anaconda3/lib/python3.9/site-packages (from rich>=11.1->flax) (2.11.2)\n",
            "Requirement already satisfied: fonttools>=4.22.0 in /Users/dmitrisaberi/opt/anaconda3/lib/python3.9/site-packages (from matplotlib->flax) (4.25.0)\n",
            "Requirement already satisfied: pillow>=6.2.0 in /Users/dmitrisaberi/opt/anaconda3/lib/python3.9/site-packages (from matplotlib->flax) (9.0.1)\n",
            "Requirement already satisfied: pyparsing>=2.2.1 in /Users/dmitrisaberi/opt/anaconda3/lib/python3.9/site-packages (from matplotlib->flax) (3.0.4)\n",
            "Requirement already satisfied: python-dateutil>=2.7 in /Users/dmitrisaberi/opt/anaconda3/lib/python3.9/site-packages (from matplotlib->flax) (2.8.2)\n",
            "Requirement already satisfied: packaging>=20.0 in /Users/dmitrisaberi/opt/anaconda3/lib/python3.9/site-packages (from matplotlib->flax) (21.3)\n",
            "Requirement already satisfied: kiwisolver>=1.0.1 in /Users/dmitrisaberi/opt/anaconda3/lib/python3.9/site-packages (from matplotlib->flax) (1.3.2)\n",
            "Requirement already satisfied: cycler>=0.10 in /Users/dmitrisaberi/opt/anaconda3/lib/python3.9/site-packages (from matplotlib->flax) (0.11.0)\n",
            "Requirement already satisfied: six>=1.5 in /Users/dmitrisaberi/opt/anaconda3/lib/python3.9/site-packages (from python-dateutil>=2.7->matplotlib->flax) (1.16.0)\n",
            "Requirement already satisfied: absl-py>=0.7.1 in /Users/dmitrisaberi/opt/anaconda3/lib/python3.9/site-packages (from optax->flax) (1.2.0)\n",
            "Requirement already satisfied: jaxlib>=0.1.37 in /Users/dmitrisaberi/opt/anaconda3/lib/python3.9/site-packages (from optax->flax) (0.3.25)\n",
            "Requirement already satisfied: chex>=0.1.5 in /Users/dmitrisaberi/opt/anaconda3/lib/python3.9/site-packages (from optax->flax) (0.1.5)\n",
            "Requirement already satisfied: toolz>=0.9.0 in /Users/dmitrisaberi/opt/anaconda3/lib/python3.9/site-packages (from chex>=0.1.5->optax->flax) (0.11.2)\n",
            "Requirement already satisfied: dm-tree>=0.1.5 in /Users/dmitrisaberi/opt/anaconda3/lib/python3.9/site-packages (from chex>=0.1.5->optax->flax) (0.1.7)\n",
            "Requirement already satisfied: cached_property in /Users/dmitrisaberi/opt/anaconda3/lib/python3.9/site-packages (from orbax->flax) (1.5.2)\n",
            "Requirement already satisfied: importlib_resources in /Users/dmitrisaberi/opt/anaconda3/lib/python3.9/site-packages (from orbax->flax) (5.10.0)\n",
            "Requirement already satisfied: pytest in /Users/dmitrisaberi/opt/anaconda3/lib/python3.9/site-packages (from orbax->flax) (7.1.1)\n",
            "Requirement already satisfied: etils in /Users/dmitrisaberi/opt/anaconda3/lib/python3.9/site-packages (from orbax->flax) (0.8.0)\n",
            "Requirement already satisfied: zipp>=3.1.0 in /Users/dmitrisaberi/opt/anaconda3/lib/python3.9/site-packages (from importlib_resources->orbax->flax) (3.7.0)\n",
            "Requirement already satisfied: attrs>=19.2.0 in /Users/dmitrisaberi/opt/anaconda3/lib/python3.9/site-packages (from pytest->orbax->flax) (21.4.0)\n",
            "Requirement already satisfied: iniconfig in /Users/dmitrisaberi/opt/anaconda3/lib/python3.9/site-packages (from pytest->orbax->flax) (1.1.1)\n",
            "Requirement already satisfied: pluggy<2.0,>=0.12 in /Users/dmitrisaberi/opt/anaconda3/lib/python3.9/site-packages (from pytest->orbax->flax) (1.0.0)\n",
            "Requirement already satisfied: py>=1.8.2 in /Users/dmitrisaberi/opt/anaconda3/lib/python3.9/site-packages (from pytest->orbax->flax) (1.11.0)\n",
            "Requirement already satisfied: tomli>=1.0.0 in /Users/dmitrisaberi/opt/anaconda3/lib/python3.9/site-packages (from pytest->orbax->flax) (1.2.2)\n",
            "Collecting git+https://github.com/google/flax.git\n",
            "  Cloning https://github.com/google/flax.git to /private/var/folders/9t/286b6px10md3kt42t9bshfr40000gn/T/pip-req-build-u9z7im_1\n",
            "  Running command git clone -q https://github.com/google/flax.git /private/var/folders/9t/286b6px10md3kt42t9bshfr40000gn/T/pip-req-build-u9z7im_1\n",
            "  Resolved https://github.com/google/flax.git to commit fec10eb643b68527bcb4a4e2b67de8649301e03e\n",
            "Requirement already satisfied: numpy>=1.12 in /Users/dmitrisaberi/opt/anaconda3/lib/python3.9/site-packages (from flax==0.6.2) (1.21.5)\n",
            "Requirement already satisfied: jax>=0.3.16 in /Users/dmitrisaberi/opt/anaconda3/lib/python3.9/site-packages (from flax==0.6.2) (0.3.25)\n",
            "Requirement already satisfied: matplotlib in /Users/dmitrisaberi/opt/anaconda3/lib/python3.9/site-packages (from flax==0.6.2) (3.5.1)\n",
            "Requirement already satisfied: msgpack in /Users/dmitrisaberi/opt/anaconda3/lib/python3.9/site-packages (from flax==0.6.2) (1.0.2)\n",
            "Requirement already satisfied: optax in /Users/dmitrisaberi/opt/anaconda3/lib/python3.9/site-packages (from flax==0.6.2) (0.1.5.dev0)\n",
            "Requirement already satisfied: orbax in /Users/dmitrisaberi/opt/anaconda3/lib/python3.9/site-packages (from flax==0.6.2) (0.0.22)\n",
            "Requirement already satisfied: tensorstore in /Users/dmitrisaberi/opt/anaconda3/lib/python3.9/site-packages (from flax==0.6.2) (0.1.28)\n",
            "Requirement already satisfied: rich>=11.1 in /Users/dmitrisaberi/opt/anaconda3/lib/python3.9/site-packages (from flax==0.6.2) (12.6.0)\n",
            "Requirement already satisfied: typing_extensions>=4.1.1 in /Users/dmitrisaberi/opt/anaconda3/lib/python3.9/site-packages (from flax==0.6.2) (4.1.1)\n",
            "Requirement already satisfied: PyYAML>=5.4.1 in /Users/dmitrisaberi/opt/anaconda3/lib/python3.9/site-packages (from flax==0.6.2) (6.0)\n",
            "Requirement already satisfied: scipy>=1.5 in /Users/dmitrisaberi/opt/anaconda3/lib/python3.9/site-packages (from jax>=0.3.16->flax==0.6.2) (1.7.3)\n",
            "Requirement already satisfied: opt-einsum in /Users/dmitrisaberi/opt/anaconda3/lib/python3.9/site-packages (from jax>=0.3.16->flax==0.6.2) (3.3.0)\n",
            "Requirement already satisfied: pygments<3.0.0,>=2.6.0 in /Users/dmitrisaberi/opt/anaconda3/lib/python3.9/site-packages (from rich>=11.1->flax==0.6.2) (2.11.2)\n",
            "Requirement already satisfied: commonmark<0.10.0,>=0.9.0 in /Users/dmitrisaberi/opt/anaconda3/lib/python3.9/site-packages (from rich>=11.1->flax==0.6.2) (0.9.1)\n",
            "Requirement already satisfied: python-dateutil>=2.7 in /Users/dmitrisaberi/opt/anaconda3/lib/python3.9/site-packages (from matplotlib->flax==0.6.2) (2.8.2)\n",
            "Requirement already satisfied: fonttools>=4.22.0 in /Users/dmitrisaberi/opt/anaconda3/lib/python3.9/site-packages (from matplotlib->flax==0.6.2) (4.25.0)\n",
            "Requirement already satisfied: pillow>=6.2.0 in /Users/dmitrisaberi/opt/anaconda3/lib/python3.9/site-packages (from matplotlib->flax==0.6.2) (9.0.1)\n",
            "Requirement already satisfied: cycler>=0.10 in /Users/dmitrisaberi/opt/anaconda3/lib/python3.9/site-packages (from matplotlib->flax==0.6.2) (0.11.0)\n",
            "Requirement already satisfied: kiwisolver>=1.0.1 in /Users/dmitrisaberi/opt/anaconda3/lib/python3.9/site-packages (from matplotlib->flax==0.6.2) (1.3.2)\n",
            "Requirement already satisfied: packaging>=20.0 in /Users/dmitrisaberi/opt/anaconda3/lib/python3.9/site-packages (from matplotlib->flax==0.6.2) (21.3)\n",
            "Requirement already satisfied: pyparsing>=2.2.1 in /Users/dmitrisaberi/opt/anaconda3/lib/python3.9/site-packages (from matplotlib->flax==0.6.2) (3.0.4)\n",
            "Requirement already satisfied: six>=1.5 in /Users/dmitrisaberi/opt/anaconda3/lib/python3.9/site-packages (from python-dateutil>=2.7->matplotlib->flax==0.6.2) (1.16.0)\n",
            "Requirement already satisfied: chex>=0.1.5 in /Users/dmitrisaberi/opt/anaconda3/lib/python3.9/site-packages (from optax->flax==0.6.2) (0.1.5)\n",
            "Requirement already satisfied: jaxlib>=0.1.37 in /Users/dmitrisaberi/opt/anaconda3/lib/python3.9/site-packages (from optax->flax==0.6.2) (0.3.25)\n",
            "Requirement already satisfied: absl-py>=0.7.1 in /Users/dmitrisaberi/opt/anaconda3/lib/python3.9/site-packages (from optax->flax==0.6.2) (1.2.0)\n",
            "Requirement already satisfied: toolz>=0.9.0 in /Users/dmitrisaberi/opt/anaconda3/lib/python3.9/site-packages (from chex>=0.1.5->optax->flax==0.6.2) (0.11.2)\n",
            "Requirement already satisfied: dm-tree>=0.1.5 in /Users/dmitrisaberi/opt/anaconda3/lib/python3.9/site-packages (from chex>=0.1.5->optax->flax==0.6.2) (0.1.7)\n",
            "Requirement already satisfied: cached_property in /Users/dmitrisaberi/opt/anaconda3/lib/python3.9/site-packages (from orbax->flax==0.6.2) (1.5.2)\n",
            "Requirement already satisfied: etils in /Users/dmitrisaberi/opt/anaconda3/lib/python3.9/site-packages (from orbax->flax==0.6.2) (0.8.0)\n",
            "Requirement already satisfied: importlib_resources in /Users/dmitrisaberi/opt/anaconda3/lib/python3.9/site-packages (from orbax->flax==0.6.2) (5.10.0)\n",
            "Requirement already satisfied: pytest in /Users/dmitrisaberi/opt/anaconda3/lib/python3.9/site-packages (from orbax->flax==0.6.2) (7.1.1)\n",
            "Requirement already satisfied: zipp>=3.1.0 in /Users/dmitrisaberi/opt/anaconda3/lib/python3.9/site-packages (from importlib_resources->orbax->flax==0.6.2) (3.7.0)\n",
            "Requirement already satisfied: attrs>=19.2.0 in /Users/dmitrisaberi/opt/anaconda3/lib/python3.9/site-packages (from pytest->orbax->flax==0.6.2) (21.4.0)\n",
            "Requirement already satisfied: iniconfig in /Users/dmitrisaberi/opt/anaconda3/lib/python3.9/site-packages (from pytest->orbax->flax==0.6.2) (1.1.1)\n",
            "Requirement already satisfied: pluggy<2.0,>=0.12 in /Users/dmitrisaberi/opt/anaconda3/lib/python3.9/site-packages (from pytest->orbax->flax==0.6.2) (1.0.0)\n",
            "Requirement already satisfied: py>=1.8.2 in /Users/dmitrisaberi/opt/anaconda3/lib/python3.9/site-packages (from pytest->orbax->flax==0.6.2) (1.11.0)\n",
            "Requirement already satisfied: tomli>=1.0.0 in /Users/dmitrisaberi/opt/anaconda3/lib/python3.9/site-packages (from pytest->orbax->flax==0.6.2) (1.2.2)\n"
          ]
        }
      ],
      "source": [
        "!pip install --upgrade jax jaxlib # CPU-only\n",
        "!pip3 install fire\n",
        "!pip3 install ml-collections\n",
        "!pip3 install git+https://github.com/deepmind/optax.git\n",
        "!pip3 install flax\n",
        "!pip3 install --upgrade git+https://github.com/google/flax.git\n",
        "#!pip3 install -qqq git+git://github.com/deepmind/optax.git\n",
        "#!pip3 install -qqq --upgrade git+https://github.com/google/flax.git"
      ]
    },
    {
      "cell_type": "code",
      "execution_count": 3,
      "metadata": {},
      "outputs": [
        {
          "name": "stdout",
          "output_type": "stream",
          "text": [
            "Collecting git+https://github.com/google/flax.git\n",
            "  Cloning https://github.com/google/flax.git to /private/var/folders/9t/286b6px10md3kt42t9bshfr40000gn/T/pip-req-build-dpc93b0v\n",
            "  Running command git clone -q https://github.com/google/flax.git /private/var/folders/9t/286b6px10md3kt42t9bshfr40000gn/T/pip-req-build-dpc93b0v\n",
            "  Resolved https://github.com/google/flax.git to commit 4ba1d3416f4ccbada0b1e157e59b9763469ac699\n",
            "Requirement already satisfied: numpy>=1.12 in /Users/dmitrisaberi/opt/anaconda3/lib/python3.9/site-packages (from flax==0.6.2) (1.21.5)\n",
            "Requirement already satisfied: jax>=0.3.16 in /Users/dmitrisaberi/opt/anaconda3/lib/python3.9/site-packages (from flax==0.6.2) (0.3.25)\n",
            "Requirement already satisfied: matplotlib in /Users/dmitrisaberi/opt/anaconda3/lib/python3.9/site-packages (from flax==0.6.2) (3.5.1)\n",
            "Requirement already satisfied: msgpack in /Users/dmitrisaberi/opt/anaconda3/lib/python3.9/site-packages (from flax==0.6.2) (1.0.2)\n",
            "Requirement already satisfied: optax in /Users/dmitrisaberi/opt/anaconda3/lib/python3.9/site-packages (from flax==0.6.2) (0.1.5.dev0)\n",
            "Requirement already satisfied: orbax in /Users/dmitrisaberi/opt/anaconda3/lib/python3.9/site-packages (from flax==0.6.2) (0.0.22)\n",
            "Requirement already satisfied: tensorstore in /Users/dmitrisaberi/opt/anaconda3/lib/python3.9/site-packages (from flax==0.6.2) (0.1.28)\n",
            "Requirement already satisfied: rich>=11.1 in /Users/dmitrisaberi/opt/anaconda3/lib/python3.9/site-packages (from flax==0.6.2) (12.6.0)\n",
            "Requirement already satisfied: typing_extensions>=4.1.1 in /Users/dmitrisaberi/opt/anaconda3/lib/python3.9/site-packages (from flax==0.6.2) (4.1.1)\n",
            "Requirement already satisfied: PyYAML>=5.4.1 in /Users/dmitrisaberi/opt/anaconda3/lib/python3.9/site-packages (from flax==0.6.2) (6.0)\n",
            "Requirement already satisfied: scipy>=1.5 in /Users/dmitrisaberi/opt/anaconda3/lib/python3.9/site-packages (from jax>=0.3.16->flax==0.6.2) (1.7.3)\n",
            "Requirement already satisfied: opt-einsum in /Users/dmitrisaberi/opt/anaconda3/lib/python3.9/site-packages (from jax>=0.3.16->flax==0.6.2) (3.3.0)\n",
            "Requirement already satisfied: commonmark<0.10.0,>=0.9.0 in /Users/dmitrisaberi/opt/anaconda3/lib/python3.9/site-packages (from rich>=11.1->flax==0.6.2) (0.9.1)\n",
            "Requirement already satisfied: pygments<3.0.0,>=2.6.0 in /Users/dmitrisaberi/opt/anaconda3/lib/python3.9/site-packages (from rich>=11.1->flax==0.6.2) (2.11.2)\n",
            "Requirement already satisfied: python-dateutil>=2.7 in /Users/dmitrisaberi/opt/anaconda3/lib/python3.9/site-packages (from matplotlib->flax==0.6.2) (2.8.2)\n",
            "Requirement already satisfied: fonttools>=4.22.0 in /Users/dmitrisaberi/opt/anaconda3/lib/python3.9/site-packages (from matplotlib->flax==0.6.2) (4.25.0)\n",
            "Requirement already satisfied: cycler>=0.10 in /Users/dmitrisaberi/opt/anaconda3/lib/python3.9/site-packages (from matplotlib->flax==0.6.2) (0.11.0)\n",
            "Requirement already satisfied: packaging>=20.0 in /Users/dmitrisaberi/opt/anaconda3/lib/python3.9/site-packages (from matplotlib->flax==0.6.2) (21.3)\n",
            "Requirement already satisfied: kiwisolver>=1.0.1 in /Users/dmitrisaberi/opt/anaconda3/lib/python3.9/site-packages (from matplotlib->flax==0.6.2) (1.3.2)\n",
            "Requirement already satisfied: pyparsing>=2.2.1 in /Users/dmitrisaberi/opt/anaconda3/lib/python3.9/site-packages (from matplotlib->flax==0.6.2) (3.0.4)\n",
            "Requirement already satisfied: pillow>=6.2.0 in /Users/dmitrisaberi/opt/anaconda3/lib/python3.9/site-packages (from matplotlib->flax==0.6.2) (9.0.1)\n",
            "Requirement already satisfied: six>=1.5 in /Users/dmitrisaberi/opt/anaconda3/lib/python3.9/site-packages (from python-dateutil>=2.7->matplotlib->flax==0.6.2) (1.16.0)\n",
            "Requirement already satisfied: chex>=0.1.5 in /Users/dmitrisaberi/opt/anaconda3/lib/python3.9/site-packages (from optax->flax==0.6.2) (0.1.5)\n",
            "Requirement already satisfied: absl-py>=0.7.1 in /Users/dmitrisaberi/opt/anaconda3/lib/python3.9/site-packages (from optax->flax==0.6.2) (1.2.0)\n",
            "Requirement already satisfied: jaxlib>=0.1.37 in /Users/dmitrisaberi/opt/anaconda3/lib/python3.9/site-packages (from optax->flax==0.6.2) (0.3.25)\n",
            "Requirement already satisfied: toolz>=0.9.0 in /Users/dmitrisaberi/opt/anaconda3/lib/python3.9/site-packages (from chex>=0.1.5->optax->flax==0.6.2) (0.11.2)\n",
            "Requirement already satisfied: dm-tree>=0.1.5 in /Users/dmitrisaberi/opt/anaconda3/lib/python3.9/site-packages (from chex>=0.1.5->optax->flax==0.6.2) (0.1.7)\n",
            "Requirement already satisfied: pytest in /Users/dmitrisaberi/opt/anaconda3/lib/python3.9/site-packages (from orbax->flax==0.6.2) (7.1.1)\n",
            "Requirement already satisfied: importlib_resources in /Users/dmitrisaberi/opt/anaconda3/lib/python3.9/site-packages (from orbax->flax==0.6.2) (5.10.0)\n",
            "Requirement already satisfied: cached_property in /Users/dmitrisaberi/opt/anaconda3/lib/python3.9/site-packages (from orbax->flax==0.6.2) (1.5.2)\n",
            "Requirement already satisfied: etils in /Users/dmitrisaberi/opt/anaconda3/lib/python3.9/site-packages (from orbax->flax==0.6.2) (0.8.0)\n",
            "Requirement already satisfied: zipp>=3.1.0 in /Users/dmitrisaberi/opt/anaconda3/lib/python3.9/site-packages (from importlib_resources->orbax->flax==0.6.2) (3.7.0)\n",
            "Requirement already satisfied: attrs>=19.2.0 in /Users/dmitrisaberi/opt/anaconda3/lib/python3.9/site-packages (from pytest->orbax->flax==0.6.2) (21.4.0)\n",
            "Requirement already satisfied: iniconfig in /Users/dmitrisaberi/opt/anaconda3/lib/python3.9/site-packages (from pytest->orbax->flax==0.6.2) (1.1.1)\n",
            "Requirement already satisfied: pluggy<2.0,>=0.12 in /Users/dmitrisaberi/opt/anaconda3/lib/python3.9/site-packages (from pytest->orbax->flax==0.6.2) (1.0.0)\n",
            "Requirement already satisfied: py>=1.8.2 in /Users/dmitrisaberi/opt/anaconda3/lib/python3.9/site-packages (from pytest->orbax->flax==0.6.2) (1.11.0)\n",
            "Requirement already satisfied: tomli>=1.0.0 in /Users/dmitrisaberi/opt/anaconda3/lib/python3.9/site-packages (from pytest->orbax->flax==0.6.2) (1.2.2)\n",
            "Requirement already satisfied: tensorflow-probability in /Users/dmitrisaberi/opt/anaconda3/lib/python3.9/site-packages (0.19.0)\n",
            "Requirement already satisfied: cloudpickle>=1.3 in /Users/dmitrisaberi/opt/anaconda3/lib/python3.9/site-packages (from tensorflow-probability) (2.0.0)\n",
            "Requirement already satisfied: decorator in /Users/dmitrisaberi/opt/anaconda3/lib/python3.9/site-packages (from tensorflow-probability) (5.1.1)\n",
            "Requirement already satisfied: six>=1.10.0 in /Users/dmitrisaberi/opt/anaconda3/lib/python3.9/site-packages (from tensorflow-probability) (1.16.0)\n",
            "Requirement already satisfied: dm-tree in /Users/dmitrisaberi/opt/anaconda3/lib/python3.9/site-packages (from tensorflow-probability) (0.1.7)\n",
            "Requirement already satisfied: gast>=0.3.2 in /Users/dmitrisaberi/opt/anaconda3/lib/python3.9/site-packages (from tensorflow-probability) (0.5.3)\n",
            "Requirement already satisfied: absl-py in /Users/dmitrisaberi/opt/anaconda3/lib/python3.9/site-packages (from tensorflow-probability) (1.2.0)\n",
            "Requirement already satisfied: numpy>=1.13.3 in /Users/dmitrisaberi/opt/anaconda3/lib/python3.9/site-packages (from tensorflow-probability) (1.21.5)\n",
            "Collecting git+https://github.com/blackjax-devs/blackjax.git\n",
            "  Cloning https://github.com/blackjax-devs/blackjax.git to /private/var/folders/9t/286b6px10md3kt42t9bshfr40000gn/T/pip-req-build-fxd_r_85\n",
            "  Running command git clone -q https://github.com/blackjax-devs/blackjax.git /private/var/folders/9t/286b6px10md3kt42t9bshfr40000gn/T/pip-req-build-fxd_r_85\n",
            "  Resolved https://github.com/blackjax-devs/blackjax.git to commit 28167ad35fb880f7b90d0a78d8324f7fda8032e2\n",
            "Requirement already satisfied: fastprogress>=0.2.0 in /Users/dmitrisaberi/opt/anaconda3/lib/python3.9/site-packages (from blackjax==0.9.6+74.g28167ad) (1.0.3)\n",
            "Requirement already satisfied: jax>=0.3.13 in /Users/dmitrisaberi/opt/anaconda3/lib/python3.9/site-packages (from blackjax==0.9.6+74.g28167ad) (0.3.25)\n",
            "Requirement already satisfied: jaxlib>=0.3.10 in /Users/dmitrisaberi/opt/anaconda3/lib/python3.9/site-packages (from blackjax==0.9.6+74.g28167ad) (0.3.25)\n",
            "Requirement already satisfied: jaxopt>=0.5.5 in /Users/dmitrisaberi/opt/anaconda3/lib/python3.9/site-packages (from blackjax==0.9.6+74.g28167ad) (0.5.5)\n",
            "Requirement already satisfied: opt-einsum in /Users/dmitrisaberi/opt/anaconda3/lib/python3.9/site-packages (from jax>=0.3.13->blackjax==0.9.6+74.g28167ad) (3.3.0)\n",
            "Requirement already satisfied: numpy>=1.20 in /Users/dmitrisaberi/opt/anaconda3/lib/python3.9/site-packages (from jax>=0.3.13->blackjax==0.9.6+74.g28167ad) (1.21.5)\n",
            "Requirement already satisfied: typing-extensions in /Users/dmitrisaberi/opt/anaconda3/lib/python3.9/site-packages (from jax>=0.3.13->blackjax==0.9.6+74.g28167ad) (4.1.1)\n",
            "Requirement already satisfied: scipy>=1.5 in /Users/dmitrisaberi/opt/anaconda3/lib/python3.9/site-packages (from jax>=0.3.13->blackjax==0.9.6+74.g28167ad) (1.7.3)\n",
            "Requirement already satisfied: absl-py>=0.7.0 in /Users/dmitrisaberi/opt/anaconda3/lib/python3.9/site-packages (from jaxopt>=0.5.5->blackjax==0.9.6+74.g28167ad) (1.2.0)\n",
            "Requirement already satisfied: matplotlib>=2.0.1 in /Users/dmitrisaberi/opt/anaconda3/lib/python3.9/site-packages (from jaxopt>=0.5.5->blackjax==0.9.6+74.g28167ad) (3.5.1)\n",
            "Requirement already satisfied: kiwisolver>=1.0.1 in /Users/dmitrisaberi/opt/anaconda3/lib/python3.9/site-packages (from matplotlib>=2.0.1->jaxopt>=0.5.5->blackjax==0.9.6+74.g28167ad) (1.3.2)\n",
            "Requirement already satisfied: pyparsing>=2.2.1 in /Users/dmitrisaberi/opt/anaconda3/lib/python3.9/site-packages (from matplotlib>=2.0.1->jaxopt>=0.5.5->blackjax==0.9.6+74.g28167ad) (3.0.4)\n",
            "Requirement already satisfied: packaging>=20.0 in /Users/dmitrisaberi/opt/anaconda3/lib/python3.9/site-packages (from matplotlib>=2.0.1->jaxopt>=0.5.5->blackjax==0.9.6+74.g28167ad) (21.3)\n",
            "Requirement already satisfied: python-dateutil>=2.7 in /Users/dmitrisaberi/opt/anaconda3/lib/python3.9/site-packages (from matplotlib>=2.0.1->jaxopt>=0.5.5->blackjax==0.9.6+74.g28167ad) (2.8.2)\n",
            "Requirement already satisfied: fonttools>=4.22.0 in /Users/dmitrisaberi/opt/anaconda3/lib/python3.9/site-packages (from matplotlib>=2.0.1->jaxopt>=0.5.5->blackjax==0.9.6+74.g28167ad) (4.25.0)\n",
            "Requirement already satisfied: pillow>=6.2.0 in /Users/dmitrisaberi/opt/anaconda3/lib/python3.9/site-packages (from matplotlib>=2.0.1->jaxopt>=0.5.5->blackjax==0.9.6+74.g28167ad) (9.0.1)\n",
            "Requirement already satisfied: cycler>=0.10 in /Users/dmitrisaberi/opt/anaconda3/lib/python3.9/site-packages (from matplotlib>=2.0.1->jaxopt>=0.5.5->blackjax==0.9.6+74.g28167ad) (0.11.0)\n",
            "Requirement already satisfied: six>=1.5 in /Users/dmitrisaberi/opt/anaconda3/lib/python3.9/site-packages (from python-dateutil>=2.7->matplotlib>=2.0.1->jaxopt>=0.5.5->blackjax==0.9.6+74.g28167ad) (1.16.0)\n",
            "Collecting git+https://github.com/deepmind/distrax.git\n",
            "  Cloning https://github.com/deepmind/distrax.git to /private/var/folders/9t/286b6px10md3kt42t9bshfr40000gn/T/pip-req-build-t2_begaz\n",
            "  Running command git clone -q https://github.com/deepmind/distrax.git /private/var/folders/9t/286b6px10md3kt42t9bshfr40000gn/T/pip-req-build-t2_begaz\n",
            "  Resolved https://github.com/deepmind/distrax.git to commit d5b88d6529728cbb5852f08e78a18102dd9b207a\n",
            "Requirement already satisfied: absl-py>=0.9.0 in /Users/dmitrisaberi/opt/anaconda3/lib/python3.9/site-packages (from distrax==0.1.2) (1.2.0)\n",
            "Requirement already satisfied: chex>=0.0.7 in /Users/dmitrisaberi/opt/anaconda3/lib/python3.9/site-packages (from distrax==0.1.2) (0.1.5)\n",
            "Requirement already satisfied: jax>=0.1.55 in /Users/dmitrisaberi/opt/anaconda3/lib/python3.9/site-packages (from distrax==0.1.2) (0.3.25)\n",
            "Requirement already satisfied: jaxlib>=0.1.67 in /Users/dmitrisaberi/opt/anaconda3/lib/python3.9/site-packages (from distrax==0.1.2) (0.3.25)\n",
            "Requirement already satisfied: numpy<1.23,>=1.18.0 in /Users/dmitrisaberi/opt/anaconda3/lib/python3.9/site-packages (from distrax==0.1.2) (1.21.5)\n",
            "Requirement already satisfied: tensorflow-probability>=0.15.0 in /Users/dmitrisaberi/opt/anaconda3/lib/python3.9/site-packages (from distrax==0.1.2) (0.19.0)\n",
            "Requirement already satisfied: toolz>=0.9.0 in /Users/dmitrisaberi/opt/anaconda3/lib/python3.9/site-packages (from chex>=0.0.7->distrax==0.1.2) (0.11.2)\n",
            "Requirement already satisfied: dm-tree>=0.1.5 in /Users/dmitrisaberi/opt/anaconda3/lib/python3.9/site-packages (from chex>=0.0.7->distrax==0.1.2) (0.1.7)\n",
            "Requirement already satisfied: typing-extensions in /Users/dmitrisaberi/opt/anaconda3/lib/python3.9/site-packages (from jax>=0.1.55->distrax==0.1.2) (4.1.1)\n",
            "Requirement already satisfied: scipy>=1.5 in /Users/dmitrisaberi/opt/anaconda3/lib/python3.9/site-packages (from jax>=0.1.55->distrax==0.1.2) (1.7.3)\n",
            "Requirement already satisfied: opt-einsum in /Users/dmitrisaberi/opt/anaconda3/lib/python3.9/site-packages (from jax>=0.1.55->distrax==0.1.2) (3.3.0)\n",
            "Requirement already satisfied: six>=1.10.0 in /Users/dmitrisaberi/opt/anaconda3/lib/python3.9/site-packages (from tensorflow-probability>=0.15.0->distrax==0.1.2) (1.16.0)\n",
            "Requirement already satisfied: decorator in /Users/dmitrisaberi/opt/anaconda3/lib/python3.9/site-packages (from tensorflow-probability>=0.15.0->distrax==0.1.2) (5.1.1)\n",
            "Requirement already satisfied: gast>=0.3.2 in /Users/dmitrisaberi/opt/anaconda3/lib/python3.9/site-packages (from tensorflow-probability>=0.15.0->distrax==0.1.2) (0.5.3)\n",
            "Requirement already satisfied: cloudpickle>=1.3 in /Users/dmitrisaberi/opt/anaconda3/lib/python3.9/site-packages (from tensorflow-probability>=0.15.0->distrax==0.1.2) (2.0.0)\n",
            "Requirement already satisfied: blackjax in /Users/dmitrisaberi/opt/anaconda3/lib/python3.9/site-packages (0.9.6+74.g28167ad)\n",
            "Requirement already satisfied: jax>=0.3.13 in /Users/dmitrisaberi/opt/anaconda3/lib/python3.9/site-packages (from blackjax) (0.3.25)\n",
            "Requirement already satisfied: jaxlib>=0.3.10 in /Users/dmitrisaberi/opt/anaconda3/lib/python3.9/site-packages (from blackjax) (0.3.25)\n",
            "Requirement already satisfied: jaxopt>=0.5.5 in /Users/dmitrisaberi/opt/anaconda3/lib/python3.9/site-packages (from blackjax) (0.5.5)\n",
            "Requirement already satisfied: fastprogress>=0.2.0 in /Users/dmitrisaberi/opt/anaconda3/lib/python3.9/site-packages (from blackjax) (1.0.3)\n",
            "Requirement already satisfied: opt-einsum in /Users/dmitrisaberi/opt/anaconda3/lib/python3.9/site-packages (from jax>=0.3.13->blackjax) (3.3.0)\n",
            "Requirement already satisfied: numpy>=1.20 in /Users/dmitrisaberi/opt/anaconda3/lib/python3.9/site-packages (from jax>=0.3.13->blackjax) (1.21.5)\n",
            "Requirement already satisfied: typing-extensions in /Users/dmitrisaberi/opt/anaconda3/lib/python3.9/site-packages (from jax>=0.3.13->blackjax) (4.1.1)\n",
            "Requirement already satisfied: scipy>=1.5 in /Users/dmitrisaberi/opt/anaconda3/lib/python3.9/site-packages (from jax>=0.3.13->blackjax) (1.7.3)\n",
            "Requirement already satisfied: matplotlib>=2.0.1 in /Users/dmitrisaberi/opt/anaconda3/lib/python3.9/site-packages (from jaxopt>=0.5.5->blackjax) (3.5.1)\n",
            "Requirement already satisfied: absl-py>=0.7.0 in /Users/dmitrisaberi/opt/anaconda3/lib/python3.9/site-packages (from jaxopt>=0.5.5->blackjax) (1.2.0)\n",
            "Requirement already satisfied: fonttools>=4.22.0 in /Users/dmitrisaberi/opt/anaconda3/lib/python3.9/site-packages (from matplotlib>=2.0.1->jaxopt>=0.5.5->blackjax) (4.25.0)\n",
            "Requirement already satisfied: pillow>=6.2.0 in /Users/dmitrisaberi/opt/anaconda3/lib/python3.9/site-packages (from matplotlib>=2.0.1->jaxopt>=0.5.5->blackjax) (9.0.1)\n",
            "Requirement already satisfied: packaging>=20.0 in /Users/dmitrisaberi/opt/anaconda3/lib/python3.9/site-packages (from matplotlib>=2.0.1->jaxopt>=0.5.5->blackjax) (21.3)\n",
            "Requirement already satisfied: kiwisolver>=1.0.1 in /Users/dmitrisaberi/opt/anaconda3/lib/python3.9/site-packages (from matplotlib>=2.0.1->jaxopt>=0.5.5->blackjax) (1.3.2)\n",
            "Requirement already satisfied: pyparsing>=2.2.1 in /Users/dmitrisaberi/opt/anaconda3/lib/python3.9/site-packages (from matplotlib>=2.0.1->jaxopt>=0.5.5->blackjax) (3.0.4)\n",
            "Requirement already satisfied: cycler>=0.10 in /Users/dmitrisaberi/opt/anaconda3/lib/python3.9/site-packages (from matplotlib>=2.0.1->jaxopt>=0.5.5->blackjax) (0.11.0)\n",
            "Requirement already satisfied: python-dateutil>=2.7 in /Users/dmitrisaberi/opt/anaconda3/lib/python3.9/site-packages (from matplotlib>=2.0.1->jaxopt>=0.5.5->blackjax) (2.8.2)\n",
            "Requirement already satisfied: six>=1.5 in /Users/dmitrisaberi/opt/anaconda3/lib/python3.9/site-packages (from python-dateutil>=2.7->matplotlib>=2.0.1->jaxopt>=0.5.5->blackjax) (1.16.0)\n"
          ]
        }
      ],
      "source": [
        "!pip3 install --upgrade git+https://github.com/google/flax.git\n",
        "!pip3 install --upgrade tensorflow-probability\n",
        "!pip3 install git+https://github.com/blackjax-devs/blackjax.git\n",
        "!pip3 install git+https://github.com/deepmind/distrax.git\n",
        "!pip3 install blackjax"
      ]
    },
    {
      "cell_type": "markdown",
      "metadata": {
        "id": "dK6p1QZrBfly"
      },
      "source": [
        "## Test the installatation"
      ]
    },
    {
      "cell_type": "code",
      "execution_count": 2,
      "metadata": {
        "colab": {
          "base_uri": "https://localhost:8080/"
        },
        "id": "scOTAFKLncE5",
        "outputId": "9d5602e2-7c95-4d85-be66-6beacf9c7349"
      },
      "outputs": [
        {
          "name": "stdout",
          "output_type": "stream",
          "text": [
            "Expected Reward : 4420.50 ± 14.35\n",
            "Time : 7.601s\n"
          ]
        }
      ],
      "source": [
        "%%bash\n",
        "cd /Users/dmitrisaberi/Documents/GitHub/bandits\n",
        "python bandits test"
      ]
    },
    {
      "cell_type": "markdown",
      "metadata": {
        "id": "gx6W3l60Birc"
      },
      "source": [
        "## Setup "
      ]
    },
    {
      "cell_type": "code",
      "execution_count": 3,
      "metadata": {
        "colab": {
          "base_uri": "https://localhost:8080/"
        },
        "id": "IgQ7Wq37LUQG",
        "outputId": "21ad3203-0a12-4004-df85-04a90f282821"
      },
      "outputs": [
        {
          "name": "stdout",
          "output_type": "stream",
          "text": [
            "[Errno 2] No such file or directory: '/content/bandits/bandits/experiments'\n",
            "/Users/dmitrisaberi/Documents/GitHub/bandits/bandits/scripts\n"
          ]
        }
      ],
      "source": [
        "%cd /content/bandits/bandits/experiments"
      ]
    },
    {
      "cell_type": "code",
      "execution_count": 4,
      "metadata": {
        "colab": {
          "base_uri": "https://localhost:8080/"
        },
        "id": "YSgufIApEaiU",
        "outputId": "d7af82c8-f00c-4bb6-f16f-47c63828026f",
        "tags": []
      },
      "outputs": [
        {
          "name": "stdout",
          "output_type": "stream",
          "text": [
            "1\n"
          ]
        }
      ],
      "source": [
        "import os\n",
        "os.chdir(\"..\")\n",
        "\n",
        "import jax\n",
        "import ml_collections\n",
        "\n",
        "import pandas as pd\n",
        "\n",
        "import glob\n",
        "from datetime import datetime\n",
        "\n",
        "import scripts.movielens_exp as movielens_run\n",
        "import scripts.mnist_exp as mnist_run\n",
        "import scripts.tabular_exp as tabular_run\n",
        "import scripts.tabular_subspace_exp as tabular_sub_run\n",
        "\n",
        "print(jax.device_count())"
      ]
    },
    {
      "cell_type": "code",
      "execution_count": 5,
      "metadata": {
        "id": "8gnJYer1EaiV"
      },
      "outputs": [],
      "source": [
        "def get_config(results_filename):\n",
        "  \"\"\"Get the default hyperparameter configuration.\"\"\"\n",
        "  config = ml_collections.ConfigDict()\n",
        "  config.filepath = results_filename\n",
        "  config.ntrials = 2 # was 10 in paper\n",
        "  return config"
      ]
    },
    {
      "cell_type": "code",
      "execution_count": 6,
      "metadata": {
        "id": "Yo1dXiJSEaiV"
      },
      "outputs": [],
      "source": [
        "timestamp = datetime.timestamp(datetime.now())"
      ]
    },
    {
      "cell_type": "code",
      "execution_count": 7,
      "metadata": {
        "id": "QuYleUSEG-or"
      },
      "outputs": [],
      "source": [
        "def plot_figure(data, x, y, filename, figsize=(24, 9), log_scale=False):   \n",
        "    sns.set(font_scale=1.5)\n",
        "    plt.style.use(\"seaborn-poster\")\n",
        "\n",
        "    fig, ax = plt.subplots(figsize=figsize, dpi=300)\n",
        "    g = sns.barplot(x=x, y=y, hue=\"Method\", data=data, errwidth=2, ax=ax, palette=colors)\n",
        "    if log_scale:\n",
        "        g.set_yscale(\"log\")\n",
        "    plt.legend(loc='upper left', bbox_to_anchor=(1.0, 1.0))\n",
        "    plt.tight_layout()\n",
        "    plt.savefig(f\"./figures/{filename}.png\")\n",
        "    plt.show()\n",
        "\n",
        "def read_data(dataset_name):\n",
        "    *_, filename = sorted(glob.glob(f\"./results/{dataset_name}_results*.csv\"))\n",
        "    df = pd.read_csv(filename)\n",
        "    if dataset_name==\"mnist\":\n",
        "        linear_df = df[(df[\"Method\"]==\"Lin-KF\") | (df[\"Method\"]==\"Lin\")].copy()\n",
        "        linear_df[\"Model\"] = \"MLP2\"\n",
        "        df = df.append(linear_df)\n",
        "        linear_df[\"Model\"] = \"LeNet5\"\n",
        "        df = df.append(linear_df)\n",
        "\n",
        "    by = [\"Rank\"] if dataset_name==\"tabular\" else [\"Rank\", \"AltRank\"]\n",
        "\n",
        "    data_up = df.sort_values(by=by).copy()\n",
        "    data_down = df.sort_values(by=by).copy()\n",
        "\n",
        "    data_up[\"Reward\"] = data_up[\"Reward\"] + data_up[\"Std\"]\n",
        "    data_down[\"Reward\"] = data_down[\"Reward\"] - data_down[\"Std\"]\n",
        "    data = pd.concat([data_up, data_down])\n",
        "    return data\n",
        "\n",
        "def plot_subspace_figure(df, filename=None):\n",
        "    df = df.reset_index().drop(columns=[\"index\"])\n",
        "    plt.style.use(\"seaborn-darkgrid\")\n",
        "    fig, ax = plt.subplots(figsize=(12, 8))\n",
        "    sns.lineplot(x=\"Subspace Dim\", y=\"Reward\", hue=\"Method\", marker=\"o\", data=df)\n",
        "    lines, labels = ax.get_legend_handles_labels()\n",
        "    for line, method in zip(lines, labels):\n",
        "        data = df[df[\"Method\"]==method]\n",
        "        color = line.get_c()\n",
        "        y_lower_bound =  data[\"Reward\"] -  data[\"Std\"]\n",
        "        y_upper_bound = data[\"Reward\"] + data[\"Std\"]\n",
        "        ax.fill_between(data[\"Subspace Dim\"],  y_lower_bound, y_upper_bound, color=color, alpha=0.3)\n",
        "\n",
        "    ax.set_ylabel(\"Reward\", fontsize=16)\n",
        "    plt.setp(ax.get_xticklabels(), fontsize=16) \n",
        "    plt.setp(ax.get_yticklabels(), fontsize=16) \n",
        "    ax.set_xlabel(\"Subspace Dimension(d)\", fontsize=16)\n",
        "    dataset = df.iloc[0][\"Dataset\"]\n",
        "    ax.set_title(f\"{dataset.title()} - Subspace Dim vs. Reward\", fontsize=18)\n",
        "    legend = ax.legend(loc=\"lower right\", prop={'size': 16},frameon=1)\n",
        "    frame = legend.get_frame()\n",
        "    frame.set_color('white')\n",
        "    frame.set_alpha(0.6)\n",
        "    \n",
        "    file_path = \"./figures/\"\n",
        "    file_path = file_path + f\"{dataset}_sub_reward.png\" if filename is None else file_path + f\"{filename}.png\"\n",
        "    plt.savefig(file_path)"
      ]
    },
    {
      "cell_type": "markdown",
      "metadata": {
        "id": "NaqV5SteEaiV"
      },
      "source": [
        "# Run tabular experiments (not using this!)"
      ]
    },
    {
      "cell_type": "code",
      "execution_count": 8,
      "metadata": {
        "colab": {
          "base_uri": "https://localhost:8080/"
        },
        "id": "XVOocnQw7mKl",
        "outputId": "bb987eec-617c-448e-cb7a-9274381c4f2c"
      },
      "outputs": [
        {
          "name": "stdout",
          "output_type": "stream",
          "text": [
            "[Errno 2] No such file or directory: '/content/bandits/bandits'\n",
            "/Users/dmitrisaberi/Documents/GitHub/bandits/bandits/scripts\n"
          ]
        },
        {
          "ename": "FileNotFoundError",
          "evalue": "[Errno 2] No such file or directory: './bandit-data/bandit-statlog.pkl'",
          "output_type": "error",
          "traceback": [
            "\u001b[0;31m---------------------------------------------------------------------------\u001b[0m",
            "\u001b[0;31mFileNotFoundError\u001b[0m                         Traceback (most recent call last)",
            "\u001b[1;32m/Users/dmitrisaberi/Documents/GitHub/bandits/bandits/scripts/subspace_bandits.ipynb Cell 17\u001b[0m in \u001b[0;36m<cell line: 5>\u001b[0;34m()\u001b[0m\n\u001b[1;32m      <a href='vscode-notebook-cell:/Users/dmitrisaberi/Documents/GitHub/bandits/bandits/scripts/subspace_bandits.ipynb#X22sZmlsZQ%3D%3D?line=2'>3</a>\u001b[0m tabular_filename \u001b[39m=\u001b[39m \u001b[39mf\u001b[39m\u001b[39m\"\u001b[39m\u001b[39m./results/tabular_results_\u001b[39m\u001b[39m{\u001b[39;00mtimestamp\u001b[39m}\u001b[39;00m\u001b[39m.csv\u001b[39m\u001b[39m\"\u001b[39m\n\u001b[1;32m      <a href='vscode-notebook-cell:/Users/dmitrisaberi/Documents/GitHub/bandits/bandits/scripts/subspace_bandits.ipynb#X22sZmlsZQ%3D%3D?line=3'>4</a>\u001b[0m config \u001b[39m=\u001b[39m get_config(tabular_filename)\n\u001b[0;32m----> <a href='vscode-notebook-cell:/Users/dmitrisaberi/Documents/GitHub/bandits/bandits/scripts/subspace_bandits.ipynb#X22sZmlsZQ%3D%3D?line=4'>5</a>\u001b[0m tabular_run\u001b[39m.\u001b[39;49mmain(config)\n\u001b[1;32m      <a href='vscode-notebook-cell:/Users/dmitrisaberi/Documents/GitHub/bandits/bandits/scripts/subspace_bandits.ipynb#X22sZmlsZQ%3D%3D?line=5'>6</a>\u001b[0m dataset_name \u001b[39m=\u001b[39m \u001b[39m\"\u001b[39m\u001b[39mtabular\u001b[39m\u001b[39m\"\u001b[39m\n\u001b[1;32m      <a href='vscode-notebook-cell:/Users/dmitrisaberi/Documents/GitHub/bandits/bandits/scripts/subspace_bandits.ipynb#X22sZmlsZQ%3D%3D?line=6'>7</a>\u001b[0m tabular_df \u001b[39m=\u001b[39m read_data(dataset_name)\n",
            "File \u001b[0;32m~/Documents/GitHub/bandits/bandits/scripts/tabular_exp.py:29\u001b[0m, in \u001b[0;36mmain\u001b[0;34m(config)\u001b[0m\n\u001b[1;32m     26\u001b[0m shuttle_key, covetype_key, adult_key, stock_key \u001b[39m=\u001b[39m split(key, \u001b[39m4\u001b[39m)\n\u001b[1;32m     27\u001b[0m ntrain \u001b[39m=\u001b[39m \u001b[39m5000\u001b[39m\n\u001b[0;32m---> 29\u001b[0m shuttle_env \u001b[39m=\u001b[39m TabularEnvironment(shuttle_key, ntrain\u001b[39m=\u001b[39;49mntrain, name\u001b[39m=\u001b[39;49m\u001b[39m'\u001b[39;49m\u001b[39mstatlog\u001b[39;49m\u001b[39m'\u001b[39;49m, intercept\u001b[39m=\u001b[39;49m\u001b[39mFalse\u001b[39;49;00m, path\u001b[39m=\u001b[39;49m\u001b[39m\"\u001b[39;49m\u001b[39m./bandit-data\u001b[39;49m\u001b[39m\"\u001b[39;49m)\n\u001b[1;32m     30\u001b[0m covertype_env \u001b[39m=\u001b[39m TabularEnvironment(covetype_key, ntrain\u001b[39m=\u001b[39mntrain, name\u001b[39m=\u001b[39m\u001b[39m'\u001b[39m\u001b[39mcovertype\u001b[39m\u001b[39m'\u001b[39m, intercept\u001b[39m=\u001b[39m\u001b[39mFalse\u001b[39;00m, path\u001b[39m=\u001b[39m\u001b[39m\"\u001b[39m\u001b[39m./bandit-data\u001b[39m\u001b[39m\"\u001b[39m)\n\u001b[1;32m     31\u001b[0m adult_env \u001b[39m=\u001b[39m TabularEnvironment(adult_key, ntrain\u001b[39m=\u001b[39mntrain, name\u001b[39m=\u001b[39m\u001b[39m'\u001b[39m\u001b[39madult\u001b[39m\u001b[39m'\u001b[39m, intercept\u001b[39m=\u001b[39m\u001b[39mFalse\u001b[39;00m, path\u001b[39m=\u001b[39m\u001b[39m\"\u001b[39m\u001b[39m./bandit-data\u001b[39m\u001b[39m\"\u001b[39m)\n",
            "File \u001b[0;32m~/Documents/GitHub/bandits/bandits/environments/tabular_env.py:186\u001b[0m, in \u001b[0;36mTabularEnvironment\u001b[0;34m(key, name, ntrain, intercept, load_from, path)\u001b[0m\n\u001b[1;32m    184\u001b[0m     X, y, opt_rewards \u001b[39m=\u001b[39m get_tabular_data_from_url(name)\n\u001b[1;32m    185\u001b[0m \u001b[39melif\u001b[39;00m load_from \u001b[39m==\u001b[39m \u001b[39m\"\u001b[39m\u001b[39mpkl\u001b[39m\u001b[39m\"\u001b[39m:\n\u001b[0;32m--> 186\u001b[0m     X, y, opt_rewards \u001b[39m=\u001b[39m get_tabular_data_from_pkl(name, path)\n\u001b[1;32m    187\u001b[0m \u001b[39melse\u001b[39;00m:\n\u001b[1;32m    188\u001b[0m     \u001b[39mraise\u001b[39;00m \u001b[39mValueError\u001b[39;00m(\u001b[39m'\u001b[39m\u001b[39mload_from must be equal to pkl, openml or url.\u001b[39m\u001b[39m'\u001b[39m)\n",
            "File \u001b[0;32m~/Documents/GitHub/bandits/bandits/environments/tabular_env.py:170\u001b[0m, in \u001b[0;36mget_tabular_data_from_pkl\u001b[0;34m(name, path)\u001b[0m\n\u001b[1;32m    169\u001b[0m \u001b[39mdef\u001b[39;00m \u001b[39mget_tabular_data_from_pkl\u001b[39m(name, path):\n\u001b[0;32m--> 170\u001b[0m     \u001b[39mwith\u001b[39;00m \u001b[39mopen\u001b[39;49m(\u001b[39mf\u001b[39;49m\u001b[39m\"\u001b[39;49m\u001b[39m{\u001b[39;49;00mpath\u001b[39m}\u001b[39;49;00m\u001b[39m/bandit-\u001b[39;49m\u001b[39m{\u001b[39;49;00mname\u001b[39m}\u001b[39;49;00m\u001b[39m.pkl\u001b[39;49m\u001b[39m\"\u001b[39;49m, \u001b[39m\"\u001b[39;49m\u001b[39mrb\u001b[39;49m\u001b[39m\"\u001b[39;49m) \u001b[39mas\u001b[39;00m f:\n\u001b[1;32m    171\u001b[0m         sampled_vals \u001b[39m=\u001b[39m pickle\u001b[39m.\u001b[39mload(f)\n\u001b[1;32m    173\u001b[0m     contexts, opt_rewards, (\u001b[39m*\u001b[39m_, actions) \u001b[39m=\u001b[39m sampled_vals\n",
            "\u001b[0;31mFileNotFoundError\u001b[0m: [Errno 2] No such file or directory: './bandit-data/bandit-statlog.pkl'"
          ]
        }
      ],
      "source": [
        "%pwd\n",
        "%cd /content/bandits/bandits\n",
        "tabular_filename = f\"./results/tabular_results_{timestamp}.csv\"\n",
        "config = get_config(tabular_filename)\n",
        "tabular_run.main(config)\n",
        "dataset_name = \"tabular\"\n",
        "tabular_df = read_data(dataset_name)\n",
        "tabular_rows = ['EKF-Sub-SVD', 'EKF-Sub-RND', 'EKF-Sub-Diag-SVD', 'EKF-Sub-Diag-RND',\n",
        "                'EKF-Orig-Full',  'EKF-Orig-Diag', 'NL-Lim', 'NL-Unlim', 'Lin', 'Lim2', 'NeuralTS']\n",
        "tabular_df = tabular_df[tabular_df['Method'].isin(tabular_rows)]\n",
        "x, y = \"Dataset\", \"Reward\"\n",
        "filename = f\"{dataset_name}_{y.lower()}\"\n",
        "plot_figure(tabular_df, x, y, filename)\n",
        "x, y = \"Dataset\", \"Time\"\n",
        "filename = f\"{dataset_name}_{y.lower()}\"\n",
        "plot_figure(tabular_df[tabular_df[\"Method\"] != \"NeuralTS\"], x, y, filename, log_scale=True)"
      ]
    },
    {
      "cell_type": "markdown",
      "metadata": {
        "id": "tUxNfJnoEaiZ"
      },
      "source": [
        "# Run movielens experiments"
      ]
    },
    {
      "cell_type": "code",
      "execution_count": 7,
      "metadata": {
        "id": "XkzXuQp3Eaia"
      },
      "outputs": [
        {
          "name": "stdout",
          "output_type": "stream",
          "text": [
            "Bandit : Linear\n",
            "Expected Reward : 2665.50 ± 16.50\n",
            "\tTime : 7.686638116836548:0.3f\n",
            "Bandit : BNN\n",
            "Expected Reward : 2078.50 ± 145.50\n",
            "\tTime : 38.232105016708374:0.3f\n",
            "Bandit : Linear\n",
            "Expected Reward : 2665.50 ± 16.50\n",
            "\tTime : 6.169766902923584:0.3f\n",
            "Bandit : BNN\n",
            "Expected Reward : 2078.50 ± 145.50\n",
            "\tTime : 51.37640404701233:0.3f\n"
          ]
        },
        {
          "ename": "KeyError",
          "evalue": "'BNN'",
          "output_type": "error",
          "traceback": [
            "\u001b[0;31m---------------------------------------------------------------------------\u001b[0m",
            "\u001b[0;31mKeyError\u001b[0m                                  Traceback (most recent call last)",
            "\u001b[1;32m/Users/dmitrisaberi/Documents/GitHub/bandits/bandits/scripts/subspace_bandits.ipynb Cell 19\u001b[0m in \u001b[0;36m<cell line: 3>\u001b[0;34m()\u001b[0m\n\u001b[1;32m      <a href='vscode-notebook-cell:/Users/dmitrisaberi/Documents/GitHub/bandits/bandits/scripts/subspace_bandits.ipynb#Y106sZmlsZQ%3D%3D?line=0'>1</a>\u001b[0m movielens_filename \u001b[39m=\u001b[39m \u001b[39mf\u001b[39m\u001b[39m\"\u001b[39m\u001b[39m./results/movielens_results_\u001b[39m\u001b[39m{\u001b[39;00mtimestamp\u001b[39m}\u001b[39;00m\u001b[39m.csv\u001b[39m\u001b[39m\"\u001b[39m\n\u001b[1;32m      <a href='vscode-notebook-cell:/Users/dmitrisaberi/Documents/GitHub/bandits/bandits/scripts/subspace_bandits.ipynb#Y106sZmlsZQ%3D%3D?line=1'>2</a>\u001b[0m config \u001b[39m=\u001b[39m get_config(movielens_filename)\n\u001b[0;32m----> <a href='vscode-notebook-cell:/Users/dmitrisaberi/Documents/GitHub/bandits/bandits/scripts/subspace_bandits.ipynb#Y106sZmlsZQ%3D%3D?line=2'>3</a>\u001b[0m movielens_run\u001b[39m.\u001b[39;49mmain(config)\n",
            "File \u001b[0;32m~/Documents/GitHub/bandits/bandits/scripts/movielens_exp.py:141\u001b[0m, in \u001b[0;36mmain\u001b[0;34m(config)\u001b[0m\n\u001b[1;32m    139\u001b[0m df \u001b[39m=\u001b[39m pd\u001b[39m.\u001b[39mDataFrame(results)\n\u001b[1;32m    140\u001b[0m df \u001b[39m=\u001b[39m df\u001b[39m.\u001b[39mrename(columns\u001b[39m=\u001b[39m{\u001b[39m0\u001b[39m: \u001b[39m\"\u001b[39m\u001b[39mMethod\u001b[39m\u001b[39m\"\u001b[39m, \u001b[39m1\u001b[39m: \u001b[39m\"\u001b[39m\u001b[39mModel\u001b[39m\u001b[39m\"\u001b[39m, \u001b[39m2\u001b[39m: \u001b[39m\"\u001b[39m\u001b[39mTime\u001b[39m\u001b[39m\"\u001b[39m, \u001b[39m3\u001b[39m: \u001b[39m\"\u001b[39m\u001b[39mReward\u001b[39m\u001b[39m\"\u001b[39m, \u001b[39m4\u001b[39m: \u001b[39m\"\u001b[39m\u001b[39mStd\u001b[39m\u001b[39m\"\u001b[39m})\n\u001b[0;32m--> 141\u001b[0m df[\u001b[39m\"\u001b[39m\u001b[39mMethod\u001b[39m\u001b[39m\"\u001b[39m] \u001b[39m=\u001b[39m df[\u001b[39m\"\u001b[39;49m\u001b[39mMethod\u001b[39;49m\u001b[39m\"\u001b[39;49m]\u001b[39m.\u001b[39;49mapply(\u001b[39mlambda\u001b[39;49;00m v: mapping[v])\n\u001b[1;32m    142\u001b[0m df[\u001b[39m\"\u001b[39m\u001b[39mRank\u001b[39m\u001b[39m\"\u001b[39m] \u001b[39m=\u001b[39m df[\u001b[39m\"\u001b[39m\u001b[39mMethod\u001b[39m\u001b[39m\"\u001b[39m]\u001b[39m.\u001b[39mapply(\u001b[39mlambda\u001b[39;00m v: method_ordering[v])\n\u001b[1;32m    143\u001b[0m df[\u001b[39m\"\u001b[39m\u001b[39mAltRank\u001b[39m\u001b[39m\"\u001b[39m] \u001b[39m=\u001b[39m df[\u001b[39m\"\u001b[39m\u001b[39mModel\u001b[39m\u001b[39m\"\u001b[39m]\u001b[39m.\u001b[39mapply(\u001b[39mlambda\u001b[39;00m v: rank[v])\n",
            "File \u001b[0;32m~/opt/anaconda3/lib/python3.9/site-packages/pandas/core/series.py:4433\u001b[0m, in \u001b[0;36mSeries.apply\u001b[0;34m(self, func, convert_dtype, args, **kwargs)\u001b[0m\n\u001b[1;32m   4323\u001b[0m \u001b[39mdef\u001b[39;00m \u001b[39mapply\u001b[39m(\n\u001b[1;32m   4324\u001b[0m     \u001b[39mself\u001b[39m,\n\u001b[1;32m   4325\u001b[0m     func: AggFuncType,\n\u001b[0;32m   (...)\u001b[0m\n\u001b[1;32m   4328\u001b[0m     \u001b[39m*\u001b[39m\u001b[39m*\u001b[39mkwargs,\n\u001b[1;32m   4329\u001b[0m ) \u001b[39m-\u001b[39m\u001b[39m>\u001b[39m DataFrame \u001b[39m|\u001b[39m Series:\n\u001b[1;32m   4330\u001b[0m     \u001b[39m\"\"\"\u001b[39;00m\n\u001b[1;32m   4331\u001b[0m \u001b[39m    Invoke function on values of Series.\u001b[39;00m\n\u001b[1;32m   4332\u001b[0m \n\u001b[0;32m   (...)\u001b[0m\n\u001b[1;32m   4431\u001b[0m \u001b[39m    dtype: float64\u001b[39;00m\n\u001b[1;32m   4432\u001b[0m \u001b[39m    \"\"\"\u001b[39;00m\n\u001b[0;32m-> 4433\u001b[0m     \u001b[39mreturn\u001b[39;00m SeriesApply(\u001b[39mself\u001b[39;49m, func, convert_dtype, args, kwargs)\u001b[39m.\u001b[39;49mapply()\n",
            "File \u001b[0;32m~/opt/anaconda3/lib/python3.9/site-packages/pandas/core/apply.py:1082\u001b[0m, in \u001b[0;36mSeriesApply.apply\u001b[0;34m(self)\u001b[0m\n\u001b[1;32m   1078\u001b[0m \u001b[39mif\u001b[39;00m \u001b[39misinstance\u001b[39m(\u001b[39mself\u001b[39m\u001b[39m.\u001b[39mf, \u001b[39mstr\u001b[39m):\n\u001b[1;32m   1079\u001b[0m     \u001b[39m# if we are a string, try to dispatch\u001b[39;00m\n\u001b[1;32m   1080\u001b[0m     \u001b[39mreturn\u001b[39;00m \u001b[39mself\u001b[39m\u001b[39m.\u001b[39mapply_str()\n\u001b[0;32m-> 1082\u001b[0m \u001b[39mreturn\u001b[39;00m \u001b[39mself\u001b[39;49m\u001b[39m.\u001b[39;49mapply_standard()\n",
            "File \u001b[0;32m~/opt/anaconda3/lib/python3.9/site-packages/pandas/core/apply.py:1137\u001b[0m, in \u001b[0;36mSeriesApply.apply_standard\u001b[0;34m(self)\u001b[0m\n\u001b[1;32m   1131\u001b[0m         values \u001b[39m=\u001b[39m obj\u001b[39m.\u001b[39mastype(\u001b[39mobject\u001b[39m)\u001b[39m.\u001b[39m_values\n\u001b[1;32m   1132\u001b[0m         \u001b[39m# error: Argument 2 to \"map_infer\" has incompatible type\u001b[39;00m\n\u001b[1;32m   1133\u001b[0m         \u001b[39m# \"Union[Callable[..., Any], str, List[Union[Callable[..., Any], str]],\u001b[39;00m\n\u001b[1;32m   1134\u001b[0m         \u001b[39m# Dict[Hashable, Union[Union[Callable[..., Any], str],\u001b[39;00m\n\u001b[1;32m   1135\u001b[0m         \u001b[39m# List[Union[Callable[..., Any], str]]]]]\"; expected\u001b[39;00m\n\u001b[1;32m   1136\u001b[0m         \u001b[39m# \"Callable[[Any], Any]\"\u001b[39;00m\n\u001b[0;32m-> 1137\u001b[0m         mapped \u001b[39m=\u001b[39m lib\u001b[39m.\u001b[39;49mmap_infer(\n\u001b[1;32m   1138\u001b[0m             values,\n\u001b[1;32m   1139\u001b[0m             f,  \u001b[39m# type: ignore[arg-type]\u001b[39;49;00m\n\u001b[1;32m   1140\u001b[0m             convert\u001b[39m=\u001b[39;49m\u001b[39mself\u001b[39;49m\u001b[39m.\u001b[39;49mconvert_dtype,\n\u001b[1;32m   1141\u001b[0m         )\n\u001b[1;32m   1143\u001b[0m \u001b[39mif\u001b[39;00m \u001b[39mlen\u001b[39m(mapped) \u001b[39mand\u001b[39;00m \u001b[39misinstance\u001b[39m(mapped[\u001b[39m0\u001b[39m], ABCSeries):\n\u001b[1;32m   1144\u001b[0m     \u001b[39m# GH#43986 Need to do list(mapped) in order to get treated as nested\u001b[39;00m\n\u001b[1;32m   1145\u001b[0m     \u001b[39m#  See also GH#25959 regarding EA support\u001b[39;00m\n\u001b[1;32m   1146\u001b[0m     \u001b[39mreturn\u001b[39;00m obj\u001b[39m.\u001b[39m_constructor_expanddim(\u001b[39mlist\u001b[39m(mapped), index\u001b[39m=\u001b[39mobj\u001b[39m.\u001b[39mindex)\n",
            "File \u001b[0;32m~/opt/anaconda3/lib/python3.9/site-packages/pandas/_libs/lib.pyx:2870\u001b[0m, in \u001b[0;36mpandas._libs.lib.map_infer\u001b[0;34m()\u001b[0m\n",
            "File \u001b[0;32m~/Documents/GitHub/bandits/bandits/scripts/movielens_exp.py:141\u001b[0m, in \u001b[0;36mmain.<locals>.<lambda>\u001b[0;34m(v)\u001b[0m\n\u001b[1;32m    139\u001b[0m df \u001b[39m=\u001b[39m pd\u001b[39m.\u001b[39mDataFrame(results)\n\u001b[1;32m    140\u001b[0m df \u001b[39m=\u001b[39m df\u001b[39m.\u001b[39mrename(columns\u001b[39m=\u001b[39m{\u001b[39m0\u001b[39m: \u001b[39m\"\u001b[39m\u001b[39mMethod\u001b[39m\u001b[39m\"\u001b[39m, \u001b[39m1\u001b[39m: \u001b[39m\"\u001b[39m\u001b[39mModel\u001b[39m\u001b[39m\"\u001b[39m, \u001b[39m2\u001b[39m: \u001b[39m\"\u001b[39m\u001b[39mTime\u001b[39m\u001b[39m\"\u001b[39m, \u001b[39m3\u001b[39m: \u001b[39m\"\u001b[39m\u001b[39mReward\u001b[39m\u001b[39m\"\u001b[39m, \u001b[39m4\u001b[39m: \u001b[39m\"\u001b[39m\u001b[39mStd\u001b[39m\u001b[39m\"\u001b[39m})\n\u001b[0;32m--> 141\u001b[0m df[\u001b[39m\"\u001b[39m\u001b[39mMethod\u001b[39m\u001b[39m\"\u001b[39m] \u001b[39m=\u001b[39m df[\u001b[39m\"\u001b[39m\u001b[39mMethod\u001b[39m\u001b[39m\"\u001b[39m]\u001b[39m.\u001b[39mapply(\u001b[39mlambda\u001b[39;00m v: mapping[v])\n\u001b[1;32m    142\u001b[0m df[\u001b[39m\"\u001b[39m\u001b[39mRank\u001b[39m\u001b[39m\"\u001b[39m] \u001b[39m=\u001b[39m df[\u001b[39m\"\u001b[39m\u001b[39mMethod\u001b[39m\u001b[39m\"\u001b[39m]\u001b[39m.\u001b[39mapply(\u001b[39mlambda\u001b[39;00m v: method_ordering[v])\n\u001b[1;32m    143\u001b[0m df[\u001b[39m\"\u001b[39m\u001b[39mAltRank\u001b[39m\u001b[39m\"\u001b[39m] \u001b[39m=\u001b[39m df[\u001b[39m\"\u001b[39m\u001b[39mModel\u001b[39m\u001b[39m\"\u001b[39m]\u001b[39m.\u001b[39mapply(\u001b[39mlambda\u001b[39;00m v: rank[v])\n",
            "\u001b[0;31mKeyError\u001b[0m: 'BNN'"
          ]
        }
      ],
      "source": [
        "movielens_filename = f\"./results/movielens_results_{timestamp}.csv\"\n",
        "config = get_config(movielens_filename)\n",
        "movielens_run.main(config)"
      ]
    },
    {
      "cell_type": "code",
      "execution_count": 6,
      "metadata": {
        "id": "JME59OYvILCs"
      },
      "outputs": [],
      "source": [
        "dataset_name = \"movielens\"\n",
        "movielens_df = read_data(dataset_name)\n",
        "movielens_rows =  ['EKF-Sub-SVD', 'EKF-Sub-RND', 'EKF-Sub-Diag-SVD', 'EKF-Sub-Diag-RND',\n",
        "                   'EKF-Orig-Diag', 'NL-Lim', 'NL-Unlim', 'Lin']\n",
        "movielens_df = movielens_df[movielens_df['Method'].isin(movielens_rows)]"
      ]
    },
    {
      "cell_type": "code",
      "execution_count": null,
      "metadata": {
        "id": "cJ37A_YtIM9i"
      },
      "outputs": [],
      "source": [
        "x, y = \"Model\", \"Reward\"\n",
        "filename = f\"{dataset_name}_{y.lower()}\"\n",
        "plot_figure(movielens_df, x, y, filename)"
      ]
    },
    {
      "cell_type": "code",
      "execution_count": null,
      "metadata": {
        "id": "KDLNAIQ6IPFT"
      },
      "outputs": [],
      "source": [
        "x, y = \"Model\", \"Time\"\n",
        "filename = f\"{dataset_name}_{y.lower()}\"\n",
        "plot_figure(movielens_df, x, y, filename)"
      ]
    },
    {
      "cell_type": "markdown",
      "metadata": {
        "id": "PkJlfdAyEaiX"
      },
      "source": [
        "# Run MNIST experiments"
      ]
    },
    {
      "cell_type": "code",
      "execution_count": null,
      "metadata": {
        "id": "9J26gcVTEaiZ"
      },
      "outputs": [],
      "source": [
        "mnist_filename = f\"./results/mnist_results_{timestamp}.csv\"\n",
        "config = get_config(mnist_filename)\n",
        "mnist_run.main(config)"
      ]
    },
    {
      "cell_type": "code",
      "execution_count": null,
      "metadata": {
        "id": "I0--fVenH7kK"
      },
      "outputs": [],
      "source": [
        "method_ordering = {\"EKF-Sub-SVD\": 0,\n",
        "                   \"EKF-Sub-RND\": 1,\n",
        "                   \"EKF-Sub-Diag-SVD\": 2,\n",
        "                   \"EKF-Sub-Diag-RND\": 3,\n",
        "                   \"EKF-Orig-Full\": 4,\n",
        "                   \"EKF-Orig-Diag\": 5,\n",
        "                   \"NL-Lim\": 6,\n",
        "                   \"NL-Unlim\": 7,\n",
        "                   \"Lin\": 8,\n",
        "                   \"Lin-KF\": 9,\n",
        "                   \"Lin-Wide\": 9,\n",
        "                   \"Lim2\": 10,\n",
        "                   \"NeuralTS\": 11}\n",
        "                   \n",
        "colors = {k : sns.color_palette(\"Paired\")[v]\n",
        "          if k!=\"Lin-KF\" else  sns.color_palette(\"tab20\")[8]\n",
        "          for k,v in method_ordering.items()}"
      ]
    },
    {
      "cell_type": "code",
      "execution_count": null,
      "metadata": {
        "id": "8AwA3qTaH-Oo"
      },
      "outputs": [],
      "source": [
        "dataset_name = \"mnist\"\n",
        "# For possible methods, run mnist_df.Method.unique()\n",
        "mnist_rows = ['EKF-Sub-SVD', 'EKF-Sub-RND', 'EKF-Sub-Diag-SVD', 'EKF-Sub-Diag-RND', 'EKF-Orig-Diag', 'NL-Lim', 'NL-Unlim', 'Lin']"
      ]
    },
    {
      "cell_type": "code",
      "execution_count": null,
      "metadata": {
        "id": "lbpYHsbXIAf_"
      },
      "outputs": [],
      "source": [
        "mnist_df = read_data(dataset_name)\n",
        "mnist_df = mnist_df[mnist_df['Method'].isin(mnist_rows)]"
      ]
    },
    {
      "cell_type": "code",
      "execution_count": null,
      "metadata": {
        "id": "d7AUy1jjICGJ"
      },
      "outputs": [],
      "source": [
        "x, y = \"Model\", \"Reward\"\n",
        "filename = f\"{dataset_name}_{y.lower()}\"\n",
        "plot_figure(mnist_df, x, y, filename)"
      ]
    },
    {
      "cell_type": "code",
      "execution_count": null,
      "metadata": {
        "id": "WoNF2EB6IEPQ"
      },
      "outputs": [],
      "source": [
        "x, y = \"Model\", \"Time\"\n",
        "filename = f\"{dataset_name}_{y.lower()}\"\n",
        "plot_figure(mnist_df, x, y, filename, log_scale=True)"
      ]
    },
    {
      "cell_type": "markdown",
      "metadata": {
        "id": "a_dE_wIQEaia"
      },
      "source": [
        "# Run tabular subspace experiment"
      ]
    },
    {
      "cell_type": "code",
      "execution_count": null,
      "metadata": {
        "id": "4usZ5SIdEaib"
      },
      "outputs": [],
      "source": [
        "tabular_sub_filename = f\"./results/tabular_subspace_results_{timestamp}.csv\"\n",
        "config = get_config(tabular_sub_filename)\n",
        "tabular_sub_run.main(config)"
      ]
    },
    {
      "cell_type": "code",
      "execution_count": null,
      "metadata": {
        "id": "xGAjjg5bIRfN"
      },
      "outputs": [],
      "source": [
        "*_, filename = sorted(glob.glob(f\"./results/tabular_subspace_results*.csv\"))\n",
        "tabular_sub_df = pd.read_csv(filename)"
      ]
    },
    {
      "cell_type": "code",
      "execution_count": null,
      "metadata": {
        "id": "BP-hf3XbITZy"
      },
      "outputs": [],
      "source": [
        "dataset_name = \"shuttle\"\n",
        "shuttle = tabular_sub_df[tabular_sub_df[\"Dataset\"]==dataset_name]\n",
        "plot_subspace_figure(shuttle)"
      ]
    },
    {
      "cell_type": "code",
      "execution_count": null,
      "metadata": {
        "id": "wKV6qFqsITAY"
      },
      "outputs": [],
      "source": [
        "dataset_name = \"adult\"\n",
        "adult = tabular_sub_df[tabular_sub_df[\"Dataset\"]==dataset_name]\n",
        "plot_subspace_figure(adult)"
      ]
    },
    {
      "cell_type": "code",
      "execution_count": null,
      "metadata": {
        "id": "s7K8-ONgIW1k"
      },
      "outputs": [],
      "source": [
        "dataset_name = \"covertype\"\n",
        "covertype = tabular_sub_df[tabular_sub_df[\"Dataset\"]==dataset_name]\n",
        "plot_subspace_figure(covertype)"
      ]
    }
  ],
  "metadata": {
    "accelerator": "GPU",
    "colab": {
      "include_colab_link": true,
      "machine_shape": "hm",
      "name": "subspace-bandits.ipynb",
      "provenance": [],
      "toc_visible": true
    },
    "kernelspec": {
      "display_name": "Python 3.9.12 ('base')",
      "language": "python",
      "name": "python3"
    },
    "language_info": {
      "codemirror_mode": {
        "name": "ipython",
        "version": 3
      },
      "file_extension": ".py",
      "mimetype": "text/x-python",
      "name": "python",
      "nbconvert_exporter": "python",
      "pygments_lexer": "ipython3",
      "version": "3.9.12"
    },
    "vscode": {
      "interpreter": {
        "hash": "e0abf3127efe1190c166efd1914d950e12a1420cbce56b58399667c772c7926e"
      }
    }
  },
  "nbformat": 4,
  "nbformat_minor": 0
}
