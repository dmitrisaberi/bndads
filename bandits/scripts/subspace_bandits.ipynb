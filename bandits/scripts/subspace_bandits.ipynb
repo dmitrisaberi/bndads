{
  "cells": [
    {
      "cell_type": "markdown",
      "metadata": {
        "id": "view-in-github",
        "colab_type": "text"
      },
      "source": [
        "<a href=\"https://colab.research.google.com/github/probml/bandits/blob/main/bandits/scripts/subspace_bandits.ipynb\" target=\"_parent\"><img src=\"https://colab.research.google.com/assets/colab-badge.svg\" alt=\"Open In Colab\"/></a>"
      ]
    },
    {
      "cell_type": "markdown",
      "source": [
        "# Bayesian Subspace bandits\n",
        "\n",
        "See  https://arxiv.org/abs/2112.00195 for details.\n"
      ],
      "metadata": {
        "id": "1o3MquliBXCr"
      }
    },
    {
      "cell_type": "markdown",
      "source": [
        "## Installation"
      ],
      "metadata": {
        "id": "e9DNLtCwCOTb"
      }
    },
    {
      "cell_type": "code",
      "execution_count": 1,
      "metadata": {
        "colab": {
          "base_uri": "https://localhost:8080/"
        },
        "id": "fjs5Hm5_Env3",
        "outputId": "e292342a-7120-4f2a-c45e-0725eb12f6a7"
      },
      "outputs": [
        {
          "output_type": "stream",
          "name": "stdout",
          "text": [
            "Cloning into 'bandits'...\n",
            "remote: Enumerating objects: 56, done.\u001b[K\n",
            "remote: Counting objects: 100% (56/56), done.\u001b[K\n",
            "remote: Compressing objects: 100% (53/53), done.\u001b[K\n",
            "remote: Total 56 (delta 11), reused 23 (delta 1), pack-reused 0\u001b[K\n",
            "Unpacking objects: 100% (56/56), done.\n"
          ]
        }
      ],
      "source": [
        "!git clone --depth 1 https://github.com/probml/bandits"
      ]
    },
    {
      "cell_type": "code",
      "execution_count": 2,
      "metadata": {
        "id": "Bu0fD71JEaiR",
        "outputId": "b14bb16c-df35-4ca7-e4de-a2bf785e7267",
        "colab": {
          "base_uri": "https://localhost:8080/"
        }
      },
      "outputs": [
        {
          "output_type": "stream",
          "name": "stdout",
          "text": [
            "\u001b[?25l\r\u001b[K     |███▊                            | 10 kB 32.8 MB/s eta 0:00:01\r\u001b[K     |███████▌                        | 20 kB 37.0 MB/s eta 0:00:01\r\u001b[K     |███████████▏                    | 30 kB 22.2 MB/s eta 0:00:01\r\u001b[K     |███████████████                 | 40 kB 18.1 MB/s eta 0:00:01\r\u001b[K     |██████████████████▊             | 51 kB 17.1 MB/s eta 0:00:01\r\u001b[K     |██████████████████████▍         | 61 kB 14.0 MB/s eta 0:00:01\r\u001b[K     |██████████████████████████▏     | 71 kB 11.9 MB/s eta 0:00:01\r\u001b[K     |██████████████████████████████  | 81 kB 13.1 MB/s eta 0:00:01\r\u001b[K     |████████████████████████████████| 87 kB 5.8 MB/s \n",
            "\u001b[?25h  Building wheel for fire (setup.py) ... \u001b[?25l\u001b[?25hdone\n",
            "\u001b[K     |████████████████████████████████| 88 kB 6.0 MB/s \n",
            "\u001b[K     |████████████████████████████████| 65 kB 3.3 MB/s \n",
            "\u001b[?25h  Building wheel for optax (setup.py) ... \u001b[?25l\u001b[?25hdone\n",
            "  Building wheel for flax (setup.py) ... \u001b[?25l\u001b[?25hdone\n"
          ]
        }
      ],
      "source": [
        "!pip install -qqq fire\n",
        "!pip install -qqq ml-collections\n",
        "!pip install -qqq git+git://github.com/deepmind/optax.git\n",
        "!pip install -qqq --upgrade git+https://github.com/google/flax.git"
      ]
    },
    {
      "cell_type": "markdown",
      "source": [
        "## Test the installatation"
      ],
      "metadata": {
        "id": "dK6p1QZrBfly"
      }
    },
    {
      "cell_type": "code",
      "execution_count": 3,
      "metadata": {
        "colab": {
          "base_uri": "https://localhost:8080/"
        },
        "id": "scOTAFKLncE5",
        "outputId": "9d5602e2-7c95-4d85-be66-6beacf9c7349"
      },
      "outputs": [
        {
          "output_type": "stream",
          "name": "stdout",
          "text": [
            "Expected Reward : 4419.70 ± 13.78\n",
            "Time : 11.732s\n"
          ]
        }
      ],
      "source": [
        "%%bash\n",
        "cd /content/bandits\n",
        "python bandits test"
      ]
    },
    {
      "cell_type": "markdown",
      "source": [
        "## Setup "
      ],
      "metadata": {
        "id": "gx6W3l60Birc"
      }
    },
    {
      "cell_type": "code",
      "execution_count": null,
      "metadata": {
        "colab": {
          "base_uri": "https://localhost:8080/"
        },
        "id": "IgQ7Wq37LUQG",
        "outputId": "21ad3203-0a12-4004-df85-04a90f282821"
      },
      "outputs": [
        {
          "name": "stdout",
          "output_type": "stream",
          "text": [
            "/content/bandits/bandits/experiments\n"
          ]
        }
      ],
      "source": [
        "%cd /content/bandits/bandits/experiments"
      ]
    },
    {
      "cell_type": "code",
      "execution_count": null,
      "metadata": {
        "colab": {
          "base_uri": "https://localhost:8080/"
        },
        "id": "YSgufIApEaiU",
        "outputId": "d7af82c8-f00c-4bb6-f16f-47c63828026f",
        "tags": []
      },
      "outputs": [
        {
          "name": "stderr",
          "output_type": "stream",
          "text": [
            "WARNING:absl:No GPU/TPU found, falling back to CPU. (Set TF_CPP_MIN_LOG_LEVEL=0 and rerun for more info.)\n"
          ]
        },
        {
          "name": "stdout",
          "output_type": "stream",
          "text": [
            "1\n"
          ]
        }
      ],
      "source": [
        "import os\n",
        "os.chdir(\"..\")\n",
        "\n",
        "import jax\n",
        "import ml_collections\n",
        "\n",
        "import pandas as pd\n",
        "\n",
        "import glob\n",
        "from datetime import datetime\n",
        "\n",
        "import scripts.movielens_exp as movielens_run\n",
        "import scripts.mnist_exp as mnist_run\n",
        "import scripts.tabular_exp as tabular_run\n",
        "import scripts.tabular_subspace_exp as tabular_sub_run\n",
        "\n",
        "print(jax.device_count())"
      ]
    },
    {
      "cell_type": "code",
      "execution_count": null,
      "metadata": {
        "id": "8gnJYer1EaiV"
      },
      "outputs": [],
      "source": [
        "def get_config(results_filename):\n",
        "  \"\"\"Get the default hyperparameter configuration.\"\"\"\n",
        "  config = ml_collections.ConfigDict()\n",
        "  config.filepath = results_filename\n",
        "  config.ntrials = 2 # was 10 in paper\n",
        "  return config"
      ]
    },
    {
      "cell_type": "code",
      "execution_count": null,
      "metadata": {
        "id": "Yo1dXiJSEaiV"
      },
      "outputs": [],
      "source": [
        "timestamp = datetime.timestamp(datetime.now())"
      ]
    },
    {
      "cell_type": "code",
      "execution_count": null,
      "metadata": {
        "id": "QuYleUSEG-or"
      },
      "outputs": [],
      "source": [
        "def plot_figure(data, x, y, filename, figsize=(24, 9), log_scale=False):   \n",
        "    sns.set(font_scale=1.5)\n",
        "    plt.style.use(\"seaborn-poster\")\n",
        "\n",
        "    fig, ax = plt.subplots(figsize=figsize, dpi=300)\n",
        "    g = sns.barplot(x=x, y=y, hue=\"Method\", data=data, errwidth=2, ax=ax, palette=colors)\n",
        "    if log_scale:\n",
        "        g.set_yscale(\"log\")\n",
        "    plt.legend(loc='upper left', bbox_to_anchor=(1.0, 1.0))\n",
        "    plt.tight_layout()\n",
        "    plt.savefig(f\"./figures/{filename}.png\")\n",
        "    plt.show()\n",
        "\n",
        "def read_data(dataset_name):\n",
        "    *_, filename = sorted(glob.glob(f\"./results/{dataset_name}_results*.csv\"))\n",
        "    df = pd.read_csv(filename)\n",
        "    if dataset_name==\"mnist\":\n",
        "        linear_df = df[(df[\"Method\"]==\"Lin-KF\") | (df[\"Method\"]==\"Lin\")].copy()\n",
        "        linear_df[\"Model\"] = \"MLP2\"\n",
        "        df = df.append(linear_df)\n",
        "        linear_df[\"Model\"] = \"LeNet5\"\n",
        "        df = df.append(linear_df)\n",
        "\n",
        "    by = [\"Rank\"] if dataset_name==\"tabular\" else [\"Rank\", \"AltRank\"]\n",
        "\n",
        "    data_up = df.sort_values(by=by).copy()\n",
        "    data_down = df.sort_values(by=by).copy()\n",
        "\n",
        "    data_up[\"Reward\"] = data_up[\"Reward\"] + data_up[\"Std\"]\n",
        "    data_down[\"Reward\"] = data_down[\"Reward\"] - data_down[\"Std\"]\n",
        "    data = pd.concat([data_up, data_down])\n",
        "    return data\n",
        "\n",
        "def plot_subspace_figure(df, filename=None):\n",
        "    df = df.reset_index().drop(columns=[\"index\"])\n",
        "    plt.style.use(\"seaborn-darkgrid\")\n",
        "    fig, ax = plt.subplots(figsize=(12, 8))\n",
        "    sns.lineplot(x=\"Subspace Dim\", y=\"Reward\", hue=\"Method\", marker=\"o\", data=df)\n",
        "    lines, labels = ax.get_legend_handles_labels()\n",
        "    for line, method in zip(lines, labels):\n",
        "        data = df[df[\"Method\"]==method]\n",
        "        color = line.get_c()\n",
        "        y_lower_bound =  data[\"Reward\"] -  data[\"Std\"]\n",
        "        y_upper_bound = data[\"Reward\"] + data[\"Std\"]\n",
        "        ax.fill_between(data[\"Subspace Dim\"],  y_lower_bound, y_upper_bound, color=color, alpha=0.3)\n",
        "\n",
        "    ax.set_ylabel(\"Reward\", fontsize=16)\n",
        "    plt.setp(ax.get_xticklabels(), fontsize=16) \n",
        "    plt.setp(ax.get_yticklabels(), fontsize=16) \n",
        "    ax.set_xlabel(\"Subspace Dimension(d)\", fontsize=16)\n",
        "    dataset = df.iloc[0][\"Dataset\"]\n",
        "    ax.set_title(f\"{dataset.title()} - Subspace Dim vs. Reward\", fontsize=18)\n",
        "    legend = ax.legend(loc=\"lower right\", prop={'size': 16},frameon=1)\n",
        "    frame = legend.get_frame()\n",
        "    frame.set_color('white')\n",
        "    frame.set_alpha(0.6)\n",
        "    \n",
        "    file_path = \"./figures/\"\n",
        "    file_path = file_path + f\"{dataset}_sub_reward.png\" if filename is None else file_path + f\"{filename}.png\"\n",
        "    plt.savefig(file_path)"
      ]
    },
    {
      "cell_type": "markdown",
      "metadata": {
        "id": "NaqV5SteEaiV"
      },
      "source": [
        "# Run tabular experiments"
      ]
    },
    {
      "cell_type": "code",
      "execution_count": null,
      "metadata": {
        "colab": {
          "base_uri": "https://localhost:8080/"
        },
        "id": "XVOocnQw7mKl",
        "outputId": "bb987eec-617c-448e-cb7a-9274381c4f2c"
      },
      "outputs": [
        {
          "name": "stdout",
          "output_type": "stream",
          "text": [
            "/content/bandits/bandits/experiments\n"
          ]
        }
      ],
      "source": [
        "%cd /content/bandits/bandits"
      ]
    },
    {
      "cell_type": "code",
      "execution_count": null,
      "metadata": {
        "colab": {
          "base_uri": "https://localhost:8080/"
        },
        "id": "zoWaUbkdEaiX",
        "outputId": "e6db79b7-ac55-452d-aa7d-23449547bb69"
      },
      "outputs": [
        {
          "name": "stdout",
          "output_type": "stream",
          "text": [
            "Environment :  shuttle\n",
            "\tBandit : Linear\n",
            "\t\tExpected Reward : 4413.50 ± 4.50\n",
            "\t\tTime : 10.469s\n",
            "\tBandit : Linear KF\n",
            "\t\tExpected Reward : 4414.50 ± 4.50\n",
            "\t\tTime : 6.309s\n",
            "\tBandit : Linear Wide\n",
            "\t\tExpected Reward : 4210.00 ± 10.00\n",
            "\t\tTime : 25.030s\n",
            "\tBandit : Limited Neural Linear\n",
            "\t\tExpected Reward : 3840.00 ± 3.00\n",
            "\t\tTime : 23.608s\n",
            "\tBandit : Unlimited Neural Linear\n",
            "\t\tExpected Reward : 4089.00 ± 70.00\n",
            "\t\tTime : 42.628s\n",
            "\tBandit : EKF Subspace SVD\n",
            "\t\tExpected Reward : 4731.00 ± 116.00\n",
            "\t\tTime : 198.925s\n",
            "\tBandit : EKF Subspace RND\n",
            "\t\tExpected Reward : 4846.50 ± 1.50\n",
            "\t\tTime : 199.065s\n",
            "\tBandit : EKF Diagonal Subspace SVD\n",
            "\t\tExpected Reward : 4831.00 ± 0.00\n",
            "\t\tTime : 9.122s\n",
            "\tBandit : EKF Diagonal Subspace RND\n",
            "\t\tExpected Reward : 4797.00 ± 0.00\n",
            "\t\tTime : 9.127s\n",
            "\tBandit : EKF Orig Diagonal\n",
            "\t\tExpected Reward : 3915.00 ± 4.00\n",
            "\t\tTime : 6.106s\n",
            "\tBandit : EKF Orig Full\n",
            "\t\tExpected Reward : 3913.00 ± 2.00\n",
            "\t\tTime : 875.099s\n",
            "Environment :  covertype\n",
            "\tBandit : Linear\n",
            "\t\tExpected Reward : 3016.50 ± 13.50\n",
            "\t\tTime : 20.976s\n",
            "\tBandit : Linear KF\n",
            "\t\tExpected Reward : 3014.50 ± 11.50\n",
            "\t\tTime : 10.928s\n",
            "\tBandit : Linear Wide\n",
            "\t\tExpected Reward : 1831.50 ± 5.50\n",
            "\t\tTime : 272.890s\n",
            "\tBandit : Limited Neural Linear\n",
            "\t\tExpected Reward : 1835.00 ± 4.00\n",
            "\t\tTime : 20.702s\n",
            "\tBandit : Unlimited Neural Linear\n",
            "\t\tExpected Reward : 2760.00 ± 26.00\n",
            "\t\tTime : 44.914s\n",
            "\tBandit : EKF Subspace SVD\n",
            "\t\tExpected Reward : 3211.00 ± 12.00\n",
            "\t\tTime : 211.246s\n",
            "\tBandit : EKF Subspace RND\n",
            "\t\tExpected Reward : 3216.00 ± 3.00\n",
            "\t\tTime : 212.506s\n",
            "\tBandit : EKF Diagonal Subspace SVD\n",
            "\t\tExpected Reward : 2315.00 ± 0.00\n",
            "\t\tTime : 17.255s\n",
            "\tBandit : EKF Diagonal Subspace RND\n",
            "\t\tExpected Reward : 2766.00 ± 0.00\n",
            "\t\tTime : 16.895s\n",
            "\tBandit : EKF Orig Diagonal\n",
            "\t\tExpected Reward : 1369.00 ± 1025.00\n",
            "\t\tTime : 4.503s\n",
            "\tBandit : EKF Orig Full\n"
          ]
        }
      ],
      "source": [
        "tabular_filename = f\"./results/tabular_results_{timestamp}.csv\"\n",
        "config = get_config(tabular_filename)\n",
        "tabular_run.main(config)"
      ]
    },
    {
      "cell_type": "code",
      "execution_count": null,
      "metadata": {
        "id": "6Jkow86vHXBl"
      },
      "outputs": [],
      "source": [
        "dataset_name = \"tabular\"\n",
        "tabular_df = read_data(dataset_name)\n",
        "tabular_rows = ['EKF-Sub-SVD', 'EKF-Sub-RND', 'EKF-Sub-Diag-SVD', 'EKF-Sub-Diag-RND',\n",
        "                'EKF-Orig-Full',  'EKF-Orig-Diag', 'NL-Lim', 'NL-Unlim', 'Lin', 'Lim2', 'NeuralTS']\n",
        "tabular_df = tabular_df[tabular_df['Method'].isin(tabular_rows)]"
      ]
    },
    {
      "cell_type": "code",
      "execution_count": null,
      "metadata": {
        "id": "YO4xTn4THjMN"
      },
      "outputs": [],
      "source": [
        "x, y = \"Dataset\", \"Reward\"\n",
        "filename = f\"{dataset_name}_{y.lower()}\"\n",
        "plot_figure(tabular_df, x, y, filename)"
      ]
    },
    {
      "cell_type": "code",
      "execution_count": null,
      "metadata": {
        "id": "Eh_9zkdLHmU-"
      },
      "outputs": [],
      "source": [
        "x, y = \"Dataset\", \"Time\"\n",
        "filename = f\"{dataset_name}_{y.lower()}\"\n",
        "plot_figure(tabular_df[tabular_df[\"Method\"] != \"NeuralTS\"], x, y, filename, log_scale=True)"
      ]
    },
    {
      "cell_type": "markdown",
      "metadata": {
        "id": "tUxNfJnoEaiZ"
      },
      "source": [
        "# Run movielens experiments"
      ]
    },
    {
      "cell_type": "code",
      "execution_count": null,
      "metadata": {
        "id": "XkzXuQp3Eaia"
      },
      "outputs": [],
      "source": [
        "movielens_filename = f\"./results/movielens_results_{timestamp}.csv\"\n",
        "config = get_config(movielens_filename)\n",
        "movielens_run.main(config)"
      ]
    },
    {
      "cell_type": "code",
      "execution_count": null,
      "metadata": {
        "id": "JME59OYvILCs"
      },
      "outputs": [],
      "source": [
        "dataset_name = \"movielens\"\n",
        "movielens_df = read_data(dataset_name)\n",
        "movielens_rows =  ['EKF-Sub-SVD', 'EKF-Sub-RND', 'EKF-Sub-Diag-SVD', 'EKF-Sub-Diag-RND',\n",
        "                   'EKF-Orig-Diag', 'NL-Lim', 'NL-Unlim', 'Lin']\n",
        "movielens_df = movielens_df[movielens_df['Method'].isin(movielens_rows)]"
      ]
    },
    {
      "cell_type": "code",
      "execution_count": null,
      "metadata": {
        "id": "cJ37A_YtIM9i"
      },
      "outputs": [],
      "source": [
        "x, y = \"Model\", \"Reward\"\n",
        "filename = f\"{dataset_name}_{y.lower()}\"\n",
        "plot_figure(movielens_df, x, y, filename)"
      ]
    },
    {
      "cell_type": "code",
      "execution_count": null,
      "metadata": {
        "id": "KDLNAIQ6IPFT"
      },
      "outputs": [],
      "source": [
        "x, y = \"Model\", \"Time\"\n",
        "filename = f\"{dataset_name}_{y.lower()}\"\n",
        "plot_figure(movielens_df, x, y, filename)"
      ]
    },
    {
      "cell_type": "markdown",
      "metadata": {
        "id": "PkJlfdAyEaiX"
      },
      "source": [
        "# Run MNIST experiments"
      ]
    },
    {
      "cell_type": "code",
      "execution_count": null,
      "metadata": {
        "id": "9J26gcVTEaiZ"
      },
      "outputs": [],
      "source": [
        "mnist_filename = f\"./results/mnist_results_{timestamp}.csv\"\n",
        "config = get_config(mnist_filename)\n",
        "mnist_run.main(config)"
      ]
    },
    {
      "cell_type": "code",
      "execution_count": null,
      "metadata": {
        "id": "I0--fVenH7kK"
      },
      "outputs": [],
      "source": [
        "method_ordering = {\"EKF-Sub-SVD\": 0,\n",
        "                   \"EKF-Sub-RND\": 1,\n",
        "                   \"EKF-Sub-Diag-SVD\": 2,\n",
        "                   \"EKF-Sub-Diag-RND\": 3,\n",
        "                   \"EKF-Orig-Full\": 4,\n",
        "                   \"EKF-Orig-Diag\": 5,\n",
        "                   \"NL-Lim\": 6,\n",
        "                   \"NL-Unlim\": 7,\n",
        "                   \"Lin\": 8,\n",
        "                   \"Lin-KF\": 9,\n",
        "                   \"Lin-Wide\": 9,\n",
        "                   \"Lim2\": 10,\n",
        "                   \"NeuralTS\": 11}\n",
        "                   \n",
        "colors = {k : sns.color_palette(\"Paired\")[v]\n",
        "          if k!=\"Lin-KF\" else  sns.color_palette(\"tab20\")[8]\n",
        "          for k,v in method_ordering.items()}"
      ]
    },
    {
      "cell_type": "code",
      "execution_count": null,
      "metadata": {
        "id": "8AwA3qTaH-Oo"
      },
      "outputs": [],
      "source": [
        "dataset_name = \"mnist\"\n",
        "# For possible methods, run mnist_df.Method.unique()\n",
        "mnist_rows = ['EKF-Sub-SVD', 'EKF-Sub-RND', 'EKF-Sub-Diag-SVD', 'EKF-Sub-Diag-RND', 'EKF-Orig-Diag', 'NL-Lim', 'NL-Unlim', 'Lin']"
      ]
    },
    {
      "cell_type": "code",
      "execution_count": null,
      "metadata": {
        "id": "lbpYHsbXIAf_"
      },
      "outputs": [],
      "source": [
        "mnist_df = read_data(dataset_name)\n",
        "mnist_df = mnist_df[mnist_df['Method'].isin(mnist_rows)]"
      ]
    },
    {
      "cell_type": "code",
      "execution_count": null,
      "metadata": {
        "id": "d7AUy1jjICGJ"
      },
      "outputs": [],
      "source": [
        "x, y = \"Model\", \"Reward\"\n",
        "filename = f\"{dataset_name}_{y.lower()}\"\n",
        "plot_figure(mnist_df, x, y, filename)"
      ]
    },
    {
      "cell_type": "code",
      "execution_count": null,
      "metadata": {
        "id": "WoNF2EB6IEPQ"
      },
      "outputs": [],
      "source": [
        "x, y = \"Model\", \"Time\"\n",
        "filename = f\"{dataset_name}_{y.lower()}\"\n",
        "plot_figure(mnist_df, x, y, filename, log_scale=True)"
      ]
    },
    {
      "cell_type": "markdown",
      "metadata": {
        "id": "a_dE_wIQEaia"
      },
      "source": [
        "# Run tabular subspace experiment"
      ]
    },
    {
      "cell_type": "code",
      "execution_count": null,
      "metadata": {
        "id": "4usZ5SIdEaib"
      },
      "outputs": [],
      "source": [
        "tabular_sub_filename = f\"./results/tabular_subspace_results_{timestamp}.csv\"\n",
        "config = get_config(tabular_sub_filename)\n",
        "tabular_sub_run.main(config)"
      ]
    },
    {
      "cell_type": "code",
      "execution_count": null,
      "metadata": {
        "id": "xGAjjg5bIRfN"
      },
      "outputs": [],
      "source": [
        "*_, filename = sorted(glob.glob(f\"./results/tabular_subspace_results*.csv\"))\n",
        "tabular_sub_df = pd.read_csv(filename)"
      ]
    },
    {
      "cell_type": "code",
      "execution_count": null,
      "metadata": {
        "id": "BP-hf3XbITZy"
      },
      "outputs": [],
      "source": [
        "dataset_name = \"shuttle\"\n",
        "shuttle = tabular_sub_df[tabular_sub_df[\"Dataset\"]==dataset_name]\n",
        "plot_subspace_figure(shuttle)"
      ]
    },
    {
      "cell_type": "code",
      "execution_count": null,
      "metadata": {
        "id": "wKV6qFqsITAY"
      },
      "outputs": [],
      "source": [
        "dataset_name = \"adult\"\n",
        "adult = tabular_sub_df[tabular_sub_df[\"Dataset\"]==dataset_name]\n",
        "plot_subspace_figure(adult)"
      ]
    },
    {
      "cell_type": "code",
      "execution_count": null,
      "metadata": {
        "id": "s7K8-ONgIW1k"
      },
      "outputs": [],
      "source": [
        "dataset_name = \"covertype\"\n",
        "covertype = tabular_sub_df[tabular_sub_df[\"Dataset\"]==dataset_name]\n",
        "plot_subspace_figure(covertype)"
      ]
    }
  ],
  "metadata": {
    "accelerator": "GPU",
    "colab": {
      "machine_shape": "hm",
      "name": "subspace-bandits.ipynb",
      "provenance": [],
      "toc_visible": true,
      "include_colab_link": true
    },
    "interpreter": {
      "hash": "916dbcbb3f70747c44a77c7bcd40155683ae19c65e1c03b4aa3499c5328201f1"
    },
    "kernelspec": {
      "display_name": "Python 3",
      "name": "python3"
    },
    "language_info": {
      "name": "python"
    }
  },
  "nbformat": 4,
  "nbformat_minor": 0
}